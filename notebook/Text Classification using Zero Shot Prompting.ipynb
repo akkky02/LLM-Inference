{
 "cells": [
  {
   "cell_type": "markdown",
   "id": "619b4225-2020-4b5a-8c47-f246fcbd4c26",
   "metadata": {},
   "source": [
    "# LLM Inference  - Text Classification using Zero Shot Prompting"
   ]
  },
  {
   "cell_type": "markdown",
   "id": "de0d7349-996c-43cd-b184-d709c238994d",
   "metadata": {},
   "source": [
    "## Setup Environment"
   ]
  },
  {
   "cell_type": "code",
   "execution_count": 1,
   "id": "79627067-5654-4289-9867-46686726eaa8",
   "metadata": {
    "editable": true,
    "slideshow": {
     "slide_type": ""
    },
    "tags": []
   },
   "outputs": [],
   "source": [
    "import os\n",
    "from datasets import load_dataset,DatasetDict\n",
    "from dotenv import load_dotenv, find_dotenv\n",
    "\n",
    "load_dotenv(find_dotenv())\n",
    "\n",
    "HF_TOKEN = os.getenv(\"HF_TOKEN\")\n",
    "WANDB_API_KEY = os.getenv(\"WANDB_API_KEY\")\n",
    "\n",
    "from vllm import LLM, SamplingParams\n",
    "import random"
   ]
  },
  {
   "cell_type": "markdown",
   "id": "cc5fde05-8f30-4a26-bc8f-7f738ff80fae",
   "metadata": {},
   "source": [
    "## Instantiate a LLM "
   ]
  },
  {
   "cell_type": "code",
   "execution_count": 2,
   "id": "42832cb6-9608-4611-9e8c-ade5d9f9eb56",
   "metadata": {},
   "outputs": [
    {
     "name": "stderr",
     "output_type": "stream",
     "text": [
      "2024-05-01 14:17:46,807\tINFO worker.py:1749 -- Started a local Ray instance.\n"
     ]
    },
    {
     "name": "stdout",
     "output_type": "stream",
     "text": [
      "INFO 05-01 14:17:48 llm_engine.py:98] Initializing an LLM engine (v0.4.1) with config: model='meta-llama/Meta-Llama-3-70B-Instruct', speculative_config=None, tokenizer='meta-llama/Meta-Llama-3-70B-Instruct', skip_tokenizer_init=False, tokenizer_mode=auto, revision=None, tokenizer_revision=None, trust_remote_code=True, dtype=torch.bfloat16, max_seq_len=8192, download_dir=None, load_format=auto, tensor_parallel_size=4, disable_custom_all_reduce=False, quantization=None, enforce_eager=True, kv_cache_dtype=auto, quantization_param_path=None, device_config=cuda, decoding_config=DecodingConfig(guided_decoding_backend='outlines'), seed=0)\n"
     ]
    },
    {
     "name": "stderr",
     "output_type": "stream",
     "text": [
      "Special tokens have been added in the vocabulary, make sure the associated word embeddings are fine-tuned or trained.\n"
     ]
    },
    {
     "name": "stdout",
     "output_type": "stream",
     "text": [
      "INFO 05-01 14:17:56 utils.py:608] Found nccl from library /home/u.ap164907/.config/vllm/nccl/cu12/libnccl.so.2.18.1\n",
      "\u001b[36m(RayWorkerWrapper pid=2245447)\u001b[0m INFO 05-01 14:17:56 utils.py:608] Found nccl from library /home/u.ap164907/.config/vllm/nccl/cu12/libnccl.so.2.18.1\n",
      "INFO 05-01 14:18:00 selector.py:28] Using FlashAttention backend.\n",
      "\u001b[36m(RayWorkerWrapper pid=2245447)\u001b[0m INFO 05-01 14:18:00 selector.py:28] Using FlashAttention backend.\n",
      "INFO 05-01 14:18:01 pynccl_utils.py:43] vLLM is using nccl==2.18.1\n",
      "\u001b[36m(RayWorkerWrapper pid=2245447)\u001b[0m INFO 05-01 14:18:01 pynccl_utils.py:43] vLLM is using nccl==2.18.1\n",
      "WARNING 05-01 14:18:04 custom_all_reduce.py:65] Custom allreduce is disabled because it's not supported on more than two PCIe-only GPUs. To silence this warning, specify disable_custom_all_reduce=True explicitly.\n",
      "\u001b[36m(RayWorkerWrapper pid=2245447)\u001b[0m WARNING 05-01 14:18:04 custom_all_reduce.py:65] Custom allreduce is disabled because it's not supported on more than two PCIe-only GPUs. To silence this warning, specify disable_custom_all_reduce=True explicitly.\n",
      "\u001b[36m(RayWorkerWrapper pid=2245656)\u001b[0m INFO 05-01 14:17:56 utils.py:608] Found nccl from library /home/u.ap164907/.config/vllm/nccl/cu12/libnccl.so.2.18.1\u001b[32m [repeated 2x across cluster] (Ray deduplicates logs by default. Set RAY_DEDUP_LOGS=0 to disable log deduplication, or see https://docs.ray.io/en/master/ray-observability/user-guides/configure-logging.html#log-deduplication for more options.)\u001b[0m\n",
      "\u001b[36m(RayWorkerWrapper pid=2245447)\u001b[0m INFO 05-01 14:18:06 weight_utils.py:193] Using model weights format ['*.safetensors']\n",
      "\u001b[36m(RayWorkerWrapper pid=2245656)\u001b[0m INFO 05-01 14:18:00 selector.py:28] Using FlashAttention backend.\u001b[32m [repeated 2x across cluster]\u001b[0m\n",
      "INFO 05-01 14:18:06 weight_utils.py:193] Using model weights format ['*.safetensors']\n",
      "INFO 05-01 14:19:07 model_runner.py:173] Loading model weights took 32.8599 GB\n",
      "\u001b[36m(RayWorkerWrapper pid=2245447)\u001b[0m INFO 05-01 14:19:07 model_runner.py:173] Loading model weights took 32.8599 GB\n",
      "\u001b[36m(RayWorkerWrapper pid=2245656)\u001b[0m INFO 05-01 14:18:01 pynccl_utils.py:43] vLLM is using nccl==2.18.1\u001b[32m [repeated 2x across cluster]\u001b[0m\n",
      "\u001b[36m(RayWorkerWrapper pid=2245656)\u001b[0m WARNING 05-01 14:18:04 custom_all_reduce.py:65] Custom allreduce is disabled because it's not supported on more than two PCIe-only GPUs. To silence this warning, specify disable_custom_all_reduce=True explicitly.\u001b[32m [repeated 2x across cluster]\u001b[0m\n",
      "\u001b[36m(RayWorkerWrapper pid=2245656)\u001b[0m INFO 05-01 14:18:06 weight_utils.py:193] Using model weights format ['*.safetensors']\u001b[32m [repeated 2x across cluster]\u001b[0m\n",
      "INFO 05-01 14:19:14 ray_gpu_executor.py:217] # GPU blocks: 9625, # CPU blocks: 3276\n",
      "INFO 05-01 14:19:16 block_manager_v1.py:235] Automatic prefix caching is enabled.\n"
     ]
    }
   ],
   "source": [
    "llm = LLM(\n",
    "        model=\"meta-llama/Meta-Llama-3-70B-Instruct\",\n",
    "        tensor_parallel_size=4,\n",
    "        trust_remote_code=True,\n",
    "        enforce_eager=True,\n",
    "        gpu_memory_utilization=0.99,\n",
    "        enable_prefix_caching=True\n",
    ")"
   ]
  },
  {
   "cell_type": "markdown",
   "id": "c28d56b0-ae04-49a4-b1fe-760f0c1a1e09",
   "metadata": {
    "jp-MarkdownHeadingCollapsed": true
   },
   "source": [
    "## Common function for all dataset"
   ]
  },
  {
   "cell_type": "code",
   "execution_count": 3,
   "id": "89576d92-39f8-4d43-82cd-fcf2026982d4",
   "metadata": {},
   "outputs": [],
   "source": [
    "def zero_shot_classification(dataset_name, prefix):\n",
    "    # Load the dataset\n",
    "    dataset = load_dataset(dataset_name)\n",
    "\n",
    "    # Iterate over the dataset splits (train, test, validation)\n",
    "    modified_dataset_dict = {}\n",
    "    for split in [\"train\", \"test\", \"validation\"]:\n",
    "        # Get the texts and labels from the current split\n",
    "        texts = dataset[split][\"text\"]\n",
    "        labels = dataset[split][\"label\"]\n",
    "\n",
    "        # Generate the prompts for each Text\n",
    "        generating_prompts = [prefix + \"Text: \" + text + \"\\nResponse: \" for text in texts]\n",
    "\n",
    "        # Set the sampling parameters\n",
    "        sampling_params = SamplingParams(temperature=0, max_tokens=1)\n",
    "\n",
    "        # Generate the sentiment labels for each text\n",
    "        outputs = llm.generate(generating_prompts, sampling_params)\n",
    "        predicted_label = []\n",
    "        for output in outputs:\n",
    "            try:\n",
    "                predicted_label.append(int(output.outputs[0].text))\n",
    "            except ValueError:\n",
    "                predicted_label.append(-1)\n",
    "\n",
    "        # Add the predicted labels to the dataset\n",
    "        modified_dataset = dataset[split].add_column(\"predicted_label\", predicted_label)\n",
    "        modified_dataset_dict[split] = modified_dataset\n",
    "\n",
    "    # Create a DatasetDict with the modified datasets\n",
    "    return DatasetDict(modified_dataset_dict)"
   ]
  },
  {
   "cell_type": "markdown",
   "id": "40ee03a7-b372-4f95-9a57-18b0dc93b79f",
   "metadata": {},
   "source": [
    "## Twitter Dataset"
   ]
  },
  {
   "cell_type": "code",
   "execution_count": 3,
   "id": "1588b638-7f41-48fa-ad25-ef65eef32244",
   "metadata": {},
   "outputs": [
    {
     "data": {
      "text/plain": [
       "DatasetDict({\n",
       "    train: Dataset({\n",
       "        features: ['text', 'label'],\n",
       "        num_rows: 8700\n",
       "    })\n",
       "    validation: Dataset({\n",
       "        features: ['text', 'label'],\n",
       "        num_rows: 1088\n",
       "    })\n",
       "    test: Dataset({\n",
       "        features: ['text', 'label'],\n",
       "        num_rows: 1088\n",
       "    })\n",
       "})"
      ]
     },
     "execution_count": 3,
     "metadata": {},
     "output_type": "execute_result"
    }
   ],
   "source": [
    "twitter_dataset = load_dataset(\"MAdAiLab/twitter_disaster\")\n",
    "twitter_dataset"
   ]
  },
  {
   "cell_type": "markdown",
   "id": "8015b218-01e6-43e6-ad73-6a7b8f5f0471",
   "metadata": {},
   "source": [
    "### Prefix 1 - Elaborative prefix"
   ]
  },
  {
   "cell_type": "code",
   "execution_count": 7,
   "id": "0e2881b5-67f8-4a29-b401-d5cdbb18fcdb",
   "metadata": {
    "editable": true,
    "slideshow": {
     "slide_type": ""
    },
    "tags": []
   },
   "outputs": [],
   "source": [
    "prefix = \"\"\"\n",
    "You are an expert in sentiment analysis, with a deep understanding of natural language and human emotions.\n",
    "Your task is to analyze the sentiment of the given text and classify it as either positive or negative.\n",
    "When analyzing the sentiment, consider the overall tone, word choice, and emotional connotations within the text.\n",
    "Positive sentiment typically conveys happiness, joy, approval, or praise, while negative sentiment expresses sadness, anger, criticism, or disappointment.\n",
    "Provide your analysis in a concise and definitive manner, outputting either the number '1' if positive or '0' if negative based on your assessment of the sentiment expressed in the text.\n",
    "Do not provide any additional commentary or explanation beyond the sentiment classification itself.\n",
    "\"\"\""
   ]
  },
  {
   "cell_type": "code",
   "execution_count": 17,
   "id": "46600aaf-88c4-473e-9147-fc2311644a36",
   "metadata": {
    "editable": true,
    "slideshow": {
     "slide_type": ""
    },
    "tags": []
   },
   "outputs": [
    {
     "name": "stderr",
     "output_type": "stream",
     "text": [
      "Processed prompts: 100%|██████████| 5/5 [00:00<00:00, 30.69it/s]"
     ]
    },
    {
     "name": "stdout",
     "output_type": "stream",
     "text": [
      "Prefix: \n",
      "You are an expert in sentiment analysis, with a deep understanding of natural language and human emotions.\n",
      "Your task is to analyze the sentiment of the given text and classify it as either positive or negative.\n",
      "When analyzing the sentiment, consider the overall tone, word choice, and emotional connotations within the text.\n",
      "Positive sentiment typically conveys happiness, joy, approval, or praise, while negative sentiment expresses sadness, anger, criticism, or disappointment.\n",
      "Provide your analysis in a concise and definitive manner, outputting either the number '1' if positive or '0' if negative based on your assessment of the sentiment expressed in the text.\n",
      "Do not provide any additional commentary or explanation beyond the sentiment classification itself.\n",
      "\n",
      "Example 1:\n",
      "Text: E1.1.2 Particulate=Break up of Solid Combust Fossil Fuel Voltaic Active Forest Fire Biological VOC=Petroleum CH4 Bacteria Decomposition\n",
      "Response: 0\n",
      "Actual label: 1\n",
      "--------------------------------------------------\n",
      "\n",
      "Example 2:\n",
      "Text: The Cafe Run by Acid Attack Survivors in #India http://t.co/XtVRJMRREs http://t.co/ndvlAPJvQL\n",
      "Response: 1\n",
      "Actual label: 0\n",
      "--------------------------------------------------\n",
      "\n",
      "Example 3:\n",
      "Text: I made him fall and hegot injured https://t.co/XX8RO94fBC\n",
      "Response: 0\n",
      "Actual label: 0\n",
      "--------------------------------------------------\n",
      "\n",
      "Example 4:\n",
      "Text: #OilandGas Exploration Takes Seismic Shift in #Gabon to #Somalia http://t.co/oHHolJ9vEV via @business\n",
      "Response: 1\n",
      "Actual label: 1\n",
      "--------------------------------------------------\n",
      "\n",
      "Example 5:\n",
      "Text: Deaths 3 http://t.co/nApviyGKYK\n",
      "Response: 0\n",
      "Actual label: 0\n",
      "--------------------------------------------------\n",
      "\n"
     ]
    },
    {
     "name": "stderr",
     "output_type": "stream",
     "text": [
      "\n"
     ]
    }
   ],
   "source": [
    "# Get the training set\n",
    "train_set = twitter_dataset['train']\n",
    "\n",
    "# Randomly select 5 samples from the training set\n",
    "random_subset = train_set.select(random.sample(range(len(train_set)), 5))\n",
    "\n",
    "sampling_params = SamplingParams(temperature=0, max_tokens=1)\n",
    "\n",
    "generating_prompts = [prefix + \"Text: \" + example['text'] + \"\\nResponse: \" for example in random_subset]\n",
    "\n",
    "outputs = llm.generate(generating_prompts, sampling_params)\n",
    "print(f\"Prefix: {prefix}\")\n",
    "# Print the outputs\n",
    "for i, output in enumerate(outputs, start=1):\n",
    "    prompt = output.prompt\n",
    "    generated_text = output.outputs[0].text\n",
    "\n",
    "    print(f\"Example {i}:\")\n",
    "    print(f\"Text: {prompt.split('Text: ')[-1].strip()} {generated_text.strip()}\")\n",
    "    print(f\"Actual label: {random_subset[i-1]['label']}\")\n",
    "    print(\"-\" * 50 + \"\\n\")"
   ]
  },
  {
   "cell_type": "markdown",
   "id": "797c47ee-6eea-4a34-a1e3-02e544a8bed1",
   "metadata": {},
   "source": [
    "### Prefix 2 - Simple prefix"
   ]
  },
  {
   "cell_type": "code",
   "execution_count": 38,
   "id": "c63c0b42-4330-46b7-99bf-6852d9bb82e0",
   "metadata": {
    "editable": true,
    "slideshow": {
     "slide_type": ""
    },
    "tags": []
   },
   "outputs": [],
   "source": [
    "prefix = \"\"\"\n",
    "“You are a classification model. \n",
    "Based on the given tweet, you need to predict the most relevant category label from 'positive' or 'negative'.\n",
    "One tweet has only one label. \n",
    "\"\"\""
   ]
  },
  {
   "cell_type": "code",
   "execution_count": 46,
   "id": "2a21ce99-255d-4d0d-a4fa-5bba2fb41f85",
   "metadata": {
    "editable": true,
    "slideshow": {
     "slide_type": ""
    },
    "tags": []
   },
   "outputs": [
    {
     "name": "stderr",
     "output_type": "stream",
     "text": [
      "Processed prompts: 100%|██████████| 10/10 [00:01<00:00,  8.26it/s]"
     ]
    },
    {
     "name": "stdout",
     "output_type": "stream",
     "text": [
      "Prefix: \n",
      "“You are a classification model. \n",
      "Based on the given tweet, you need to predict the most relevant category label from 'positive' or 'negative'.\n",
      "One tweet has only one label. \n",
      "\n",
      "Example 1:\n",
      "Text: INVESTMENT NEWS Keurig Green Mountain Inc. Third-Quarter Earnings: Shares Sinking After-Hours - Stocks in the NewÛ_ http://t.co/GtdNW1SpVi\n",
      "Response: negative”\n",
      "--------------------------------------------------\n",
      "\n",
      "Example 2:\n",
      "Text: New music from @ApolloBrown featuring M.O.P.? 'Detonate' taken off his album 'Grandeur' coming soon - http://t.co/m1xYkEcRzr\n",
      "Response: positive”\n",
      "--------------------------------------------------\n",
      "\n",
      "Example 3:\n",
      "Text: Hollywood movie about trapped miners released in Chile\n",
      "Response: positive”\n",
      "--------------------------------------------------\n",
      "\n",
      "Example 4:\n",
      "Text: RT : Why Sweden Isn't Venezuela: There have been a few days of rioting in Venezuela with the riots directed at grÛ_ http://t.co/GJfd85vuf2\n",
      "Response: negative”\n",
      "--------------------------------------------------\n",
      "\n",
      "Example 5:\n",
      "Text: RT Saginaw - Police sketches of 2 'persons of interest' in Saginaw arson http://t.co/a2tZJ07nId http://t.co/LvtP5MHjaG\n",
      "Response: negative”\n",
      "--------------------------------------------------\n",
      "\n",
      "Example 6:\n",
      "Text: @SalmanMyDarling I will watch your dub again it will be 100 % again ???? I also have other 3 ..will use one weapon today :p\n",
      "Response: positive”\n",
      "--------------------------------------------------\n",
      "\n",
      "Example 7:\n",
      "Text: Top link: Reddit's new content policy goes into effect many horrible subreddits banned or quarantined http://t.co/Cd2NG2Awql\n",
      "Response: \"\"\"\n",
      "\n",
      "The most relevant category label for this tweet is 'positive'.\n",
      "--------------------------------------------------\n",
      "\n",
      "Example 8:\n",
      "Text: @Snazzychipz OMG... WHAT IS THE SUB WEAPON\n",
      "Response: 1”\n",
      "--------------------------------------------------\n",
      "\n",
      "Example 9:\n",
      "Text: @nagel_ashley @Vicken52 @BasedLaRock @goonc1ty rip the world... its burning\n",
      "Response: negative”\n",
      "--------------------------------------------------\n",
      "\n",
      "Example 10:\n",
      "Text: #DnB #NewRelease EDGE Jimmy - Summer Rainstorm (Lapaka Sounds) http://t.co/4L8h2FKlNO via http://t.co/ZITQKDFXJY\n",
      "Response: positive”\n",
      "--------------------------------------------------\n",
      "\n"
     ]
    },
    {
     "name": "stderr",
     "output_type": "stream",
     "text": [
      "\n"
     ]
    }
   ],
   "source": [
    "# Get the training set\n",
    "train_set = twitter_dataset['train']\n",
    "\n",
    "# Randomly select 5 samples from the training set\n",
    "random_subset = train_set.select(random.sample(range(len(train_set)), 10))\n",
    "\n",
    "sampling_params = SamplingParams(temperature=0)\n",
    "\n",
    "generating_prompts = [prefix + \"Text: \" + example['text'] + \"\\nResponse: \" for example in random_subset]\n",
    "\n",
    "outputs = llm.generate(generating_prompts, sampling_params)\n",
    "print(f\"Prefix: {prefix}\")\n",
    "# Print the outputs\n",
    "for i, output in enumerate(outputs, start=1):\n",
    "    prompt = output.prompt\n",
    "    generated_text = output.outputs[0].text\n",
    "\n",
    "    print(f\"Example {i}:\")\n",
    "    print(f\"Text: {prompt.split('Text: ')[-1].strip()} {generated_text.strip()}\")\n",
    "    # print(f\"Actual label: {random_subset[i-1]['label']}\")\n",
    "    print(\"-\" * 50 + \"\\n\")"
   ]
  },
  {
   "cell_type": "code",
   "execution_count": null,
   "id": "cc9cad86-784c-4a22-8dda-464c82966916",
   "metadata": {},
   "outputs": [],
   "source": [
    "twitter_modified = zero_shot_classification(\n",
    "    dataset_name=\"MAdAiLab/twitter_disaster\",\n",
    "    prefix=prefix\n",
    ")"
   ]
  },
  {
   "cell_type": "code",
   "execution_count": 10,
   "id": "abc59d2b-c9dc-4772-bff8-0133e9cb3f93",
   "metadata": {},
   "outputs": [
    {
     "data": {
      "text/plain": [
       "DatasetDict({\n",
       "    train: Dataset({\n",
       "        features: ['text', 'label', 'predicted_label'],\n",
       "        num_rows: 8700\n",
       "    })\n",
       "    test: Dataset({\n",
       "        features: ['text', 'label', 'predicted_label'],\n",
       "        num_rows: 1088\n",
       "    })\n",
       "    validation: Dataset({\n",
       "        features: ['text', 'label', 'predicted_label'],\n",
       "        num_rows: 1088\n",
       "    })\n",
       "})"
      ]
     },
     "execution_count": 10,
     "metadata": {},
     "output_type": "execute_result"
    }
   ],
   "source": [
    "twitter_modified"
   ]
  },
  {
   "cell_type": "code",
   "execution_count": 11,
   "id": "b194a584-bd7b-4ee0-ae61-3daf446e96cd",
   "metadata": {},
   "outputs": [
    {
     "data": {
      "application/vnd.jupyter.widget-view+json": {
       "model_id": "74aadb0bfc184537b3a7bdbcfb23a4cf",
       "version_major": 2,
       "version_minor": 0
      },
      "text/plain": [
       "Saving the dataset (0/1 shards):   0%|          | 0/8700 [00:00<?, ? examples/s]"
      ]
     },
     "metadata": {},
     "output_type": "display_data"
    },
    {
     "data": {
      "application/vnd.jupyter.widget-view+json": {
       "model_id": "623ec286b28b4fb28a9e559ab185fd5b",
       "version_major": 2,
       "version_minor": 0
      },
      "text/plain": [
       "Saving the dataset (0/1 shards):   0%|          | 0/1088 [00:00<?, ? examples/s]"
      ]
     },
     "metadata": {},
     "output_type": "display_data"
    },
    {
     "data": {
      "application/vnd.jupyter.widget-view+json": {
       "model_id": "4fd3b31f94a648f79fcc48adf1e1560f",
       "version_major": 2,
       "version_minor": 0
      },
      "text/plain": [
       "Saving the dataset (0/1 shards):   0%|          | 0/1088 [00:00<?, ? examples/s]"
      ]
     },
     "metadata": {},
     "output_type": "display_data"
    }
   ],
   "source": [
    "twitter_modified.save_to_disk(\"./output/twitter_predicted\")"
   ]
  },
  {
   "cell_type": "code",
   "execution_count": null,
   "id": "13d30faa-fc19-453f-a45b-57e95ce4f6c9",
   "metadata": {},
   "outputs": [],
   "source": []
  },
  {
   "cell_type": "markdown",
   "id": "3ba13a12-ac4a-4384-a280-39afcd0f79b6",
   "metadata": {},
   "source": [
    "## Patent Classification Dataset"
   ]
  },
  {
   "cell_type": "code",
   "execution_count": 27,
   "id": "2ce00763-847d-4254-9762-4f637636c29d",
   "metadata": {},
   "outputs": [
    {
     "data": {
      "text/plain": [
       "DatasetDict({\n",
       "    train: Dataset({\n",
       "        features: ['text', 'label'],\n",
       "        num_rows: 25000\n",
       "    })\n",
       "    validation: Dataset({\n",
       "        features: ['text', 'label'],\n",
       "        num_rows: 5000\n",
       "    })\n",
       "    test: Dataset({\n",
       "        features: ['text', 'label'],\n",
       "        num_rows: 5000\n",
       "    })\n",
       "})"
      ]
     },
     "execution_count": 27,
     "metadata": {},
     "output_type": "execute_result"
    }
   ],
   "source": [
    "patent_dataset = load_dataset(\"MAdAiLab/patent_classification\")\n",
    "patent_dataset"
   ]
  },
  {
   "cell_type": "markdown",
   "id": "078ddf5b-d465-459b-b656-fe012da99b57",
   "metadata": {},
   "source": [
    "### Prefix 1 : Elaborative Prefix"
   ]
  },
  {
   "cell_type": "code",
   "execution_count": 28,
   "id": "15d49db6-b877-49a0-ae01-4fe572cfa75f",
   "metadata": {},
   "outputs": [],
   "source": [
    "prefix = \"\"\"\n",
    "You are an expert in patent classification, with a deep understanding of technical domains and patent categorization.\n",
    "Your task is to analyze the given patent abstract text and classify it into one of the 9 categories:\n",
    "'0': Human Necessities\n",
    "'1': Performing Operations; Transporting\n",
    "'2': Chemistry; Metallurgy\n",
    "'3': Textiles; Paper\n",
    "'4': Fixed Constructions\n",
    "'5': Mechanical Engineering; Lightning; Heating; Weapons; Blasting\n",
    "'6': Physics\n",
    "'7': Electricity\n",
    "'8': General tagging of new or cross-sectional technology\n",
    "When analyzing the patent, consider the technical field, invention type, and application area described in the text.\n",
    "Provide your classification in a concise and definitive manner, outputting the corresponding class label (0-8) based on your assessment of the patent's category.\n",
    "Do not provide any additional commentary or explanation beyond the classification itself.\n",
    "\"\"\""
   ]
  },
  {
   "cell_type": "code",
   "execution_count": 29,
   "id": "7b235b42-4429-44d8-bb8f-1d1017b7e691",
   "metadata": {},
   "outputs": [
    {
     "name": "stderr",
     "output_type": "stream",
     "text": [
      "Processed prompts: 100%|██████████| 5/5 [00:00<00:00,  5.62it/s]"
     ]
    },
    {
     "name": "stdout",
     "output_type": "stream",
     "text": [
      "Prefix: \n",
      "You are an expert in patent classification, with a deep understanding of technical domains and patent categorization.\n",
      "Your task is to analyze the given patent abstract text and classify it into one of the 9 categories:\n",
      "'0': Human Necessities\n",
      "'1': Performing Operations; Transporting\n",
      "'2': Chemistry; Metallurgy\n",
      "'3': Textiles; Paper\n",
      "'4': Fixed Constructions\n",
      "'5': Mechanical Engineering; Lightning; Heating; Weapons; Blasting\n",
      "'6': Physics\n",
      "'7': Electricity\n",
      "'8': General tagging of new or cross-sectional technology\n",
      "When analyzing the patent, consider the technical field, invention type, and application area described in the text.\n",
      "Provide your classification in a concise and definitive manner, outputting the corresponding class label (0-8) based on your assessment of the patent's category.\n",
      "Do not provide any additional commentary or explanation beyond the classification itself.\n",
      "\n",
      "Example 1:\n",
      "Text: apparatus for coupling a light beam from a light source to a light fibre with reduced heating of the light fibre . the light source has a lamp , a condenser lens , and a dichroic infra - red filter disposed along an optical axis between the lamp and the light fibre . the apparatus is adapted for operation with plastic light fibres that have a softening temperature of less than 100 degrees celsius . the apparatus comprises light fibre connector that secures the light fibre on the optical axis . a non - visible radiation filter is located on the optical axis in a broad part of the light beam between the dichroic filter and the light fibre and reduces non - visible radiation energy remaining in the light beam following the dichroic filter . a beam restrictor is located on the optical axis adjacent to , and thermally isolated from , the light fibre connector . the beam restrictor restricts the light beam to an extent approximately equal to the extent of the light fibre and minimizes the amount of the light beam falling on the light fibre connector . this minimizes heating of the light fibre connector by the light falling on the light fibre connector . finally , the apparatus includes an element that transfers heat from the beam restrictor for dissipation at a location thermally isolated from the light fibre connector to prevent heat resulting from the light absorbed by the beam restrictor from being transferred to the light fibre .\n",
      "Response: 7\n",
      "--------------------------------------------------\n",
      "\n",
      "Example 2:\n",
      "Text: a process and system for determining alignment data for features on wafers or chips when a wafer or chip is substantially coated by an over bump applied material , e . g . a resin or film , and using that data to align the wafers or chips for subsequent operations such as dicing or joining . position data for alignment is produced by identifying a location of an at least partially obscured feature by varying the depth of focus upon a work piece to determine an snr approximating a maximum value from an image captured by optical scanning . an snr above a threshold value can be employed .\n",
      "Response: 7\n",
      "--------------------------------------------------\n",
      "\n",
      "Example 3:\n",
      "Text: a service station for cleaning and sealing the print head of a print module in a printing system is provided . the service station comprises a base , a first direction - changing mechanism , a first moving mechanism and a wiper . the print module drives the first direction - changing mechanism , which drives the first moving mechanism and hence the wiper to clean up the print head . furthermore , the service station comprises a second direction - changing mechanism , a second moving mechanism and a cap . the print module drives the second direction - changing mechanism , which drives the second moving mechanism and hence the cap to seal the print head .\n",
      "Response: 7\n",
      "--------------------------------------------------\n",
      "\n",
      "Example 4:\n",
      "Text: a printed circuit board includes a base member including a major surface ; a first region and a second region adjacent to the first region when viewed in a direction perpendicular to the major surface ; a first conductive pattern layer formed over the major surface and comprising a plurality of conductive features positioned in the first region ; and a connector placed over the major surface and comprising a portion located in the second region . the first conductive pattern layer does not comprise a portion formed in the second region and overlapping the connector when viewed in the direction .\n",
      "Response: 5\n",
      "--------------------------------------------------\n",
      "\n",
      "Example 5:\n",
      "Text: a hybrid - type unit for a two - wheeled vehicle can include an engine , a motor for driving a wheel of a vehicle , a power distribution mechanism , and a generator . the generator and the motor can be disposed at different positions offset longitudinally from each other and offset from the power output shaft of the engine .\n",
      "Response: 5\n",
      "--------------------------------------------------\n",
      "\n"
     ]
    },
    {
     "name": "stderr",
     "output_type": "stream",
     "text": [
      "\n"
     ]
    }
   ],
   "source": [
    "# Get the training set\n",
    "train_set = patent_dataset['train']\n",
    "\n",
    "# Randomly select 5 samples from the training set\n",
    "random_subset = train_set.select(random.sample(range(len(train_set)), 5))\n",
    "\n",
    "sampling_params = SamplingParams(temperature=0, max_tokens=1)\n",
    "\n",
    "generating_prompts = [prefix + \"Text: \" + example['text'] + \"\\nResponse: \" for example in random_subset]\n",
    "\n",
    "outputs = llm.generate(generating_prompts, sampling_params)\n",
    "print(f\"Prefix: {prefix}\")\n",
    "# Print the outputs\n",
    "for i, output in enumerate(outputs, start=1):\n",
    "    prompt = output.prompt\n",
    "    generated_text = output.outputs[0].text\n",
    "\n",
    "    print(f\"Example {i}:\")\n",
    "    print(f\"Text: {prompt.split('Text: ')[-1].strip()} {generated_text.strip()}\")\n",
    "    # print(f\"Actual label: {random_subset[i-1]['label']}\")\n",
    "    print(\"-\" * 50 + \"\\n\")"
   ]
  },
  {
   "cell_type": "markdown",
   "id": "cbe37629-f6d7-44b8-b429-4adbe8f3875b",
   "metadata": {},
   "source": [
    "### Prefix 2 - Simple prefix"
   ]
  },
  {
   "cell_type": "code",
   "execution_count": 30,
   "id": "71bb15e4-64fa-4a57-9784-05dbc80a7dc6",
   "metadata": {},
   "outputs": [],
   "source": [
    "prefix = \"\"\"\n",
    "Analyze the given patent abstract text and classify it into one of the 9 categories:\n",
    "'0': Human Necessities\n",
    "'1': Performing Operations; Transporting\n",
    "'2': Chemistry; Metallurgy\n",
    "'3': Textiles; Paper\n",
    "'4': Fixed Constructions\n",
    "'5': Mechanical Engineering; Lightning; Heating; Weapons; Blasting\n",
    "'6': Physics\n",
    "'7': Electricity\n",
    "'8': General tagging of new or cross-sectional technology\n",
    "Provide your classification in a concise and definitive manner, outputting the corresponding class label (0-8). \n",
    "Do not provide any additional commentary or explanation beyond the classification itself.\n",
    "\"\"\""
   ]
  },
  {
   "cell_type": "code",
   "execution_count": 31,
   "id": "7deca894-ca1c-46d6-8f43-0b387005abed",
   "metadata": {},
   "outputs": [
    {
     "name": "stderr",
     "output_type": "stream",
     "text": [
      "Processed prompts: 100%|██████████| 5/5 [00:00<00:00,  6.37it/s]"
     ]
    },
    {
     "name": "stdout",
     "output_type": "stream",
     "text": [
      "Prefix: \n",
      "Analyze the given patent abstract text and classify it into one of the 9 categories:\n",
      "'0': Human Necessities\n",
      "'1': Performing Operations; Transporting\n",
      "'2': Chemistry; Metallurgy\n",
      "'3': Textiles; Paper\n",
      "'4': Fixed Constructions\n",
      "'5': Mechanical Engineering; Lightning; Heating; Weapons; Blasting\n",
      "'6': Physics\n",
      "'7': Electricity\n",
      "'8': General tagging of new or cross-sectional technology\n",
      "Provide your classification in a concise and definitive manner, outputting the corresponding class label (0-8). \n",
      "Do not provide any additional commentary or explanation beyond the classification itself.\n",
      "\n",
      "Example 1:\n",
      "Text: a vehicle communication system is operable to calculate and compare vehicle statistics based on information received from a vehicle sensor . this statistic information can be used by the vehicle communication system to execute a plurality of statistic based games . additionally , relevant statistic information may be transmitted to a remote network for the purpose of playing games against other drivers . the vehicle communication system can report statistical changes to a driver , thus appraising the driver of the driver &# 39 ; s success in achieving statistical game goals . network rankings may also be provided to the driver in a real - time basis by the vehicle communication system .\n",
      "Response: 7\n",
      "--------------------------------------------------\n",
      "\n",
      "Example 2:\n",
      "Text: the present invention provides a method and apparatus for increasing the drift diameter and improving the well path of the well bore , accomplished in one embodiment by cutting away material primarily forming surfaces nearer the center of the drift , thereby reducing applied power , applied torque and resulting drag compared to conventional reamers that cut into all surfaces of the well bore .\n",
      "Response: 5\n",
      "--------------------------------------------------\n",
      "\n",
      "Example 3:\n",
      "Text: this invention relates to the filling or dispensing of radiopharmaceuticals in sample vials . radiopharmaceuticals must be dispensed in a cleanroom environment according to cgmp regulations . single - use filling cassette - type dispensing systems can be used for filling or dispensing of radiopharmaceuticals in sample vials . a single - use filling cassette is the core of such a dispenser system . a flexible bag container comprising a flexible bag and a filling cassette was found . the filling cassette is assembled within the flexible bag under aseptic conditions . the assembled filling cassette defined a closed system since each opening is connected to a sample vials or sterile filter avoiding contamination from outside .\n",
      "Response: 7\n",
      "--------------------------------------------------\n",
      "\n",
      "Example 4:\n",
      "Text: an electromagnetic contactor comprising a housing , the housing being adapted to receive internally thereof a stationary armature , a coil subassembly , return springs , and a block subassembly , the block subassembly comprising a block adapted to receive terminals and a carrier subassembly , the carrier subassembly comprising a carrier member adapted to receive and retain a movable armature , the housing having internally thereof a plurality of detents adapted to be overridden by the block subassembly and to snap over exposed surfaces of the block subassembly to lock the block subassembly , the stationary armature , and the coil assembly in the housing , whereby to complete assembly of the contactor without fasteners ; and a method for making the contactor .\n",
      "Response: 7\n",
      "--------------------------------------------------\n",
      "\n",
      "Example 5:\n",
      "Text: a method for partially refining a crude vegetable oil utilizing physical refining techniques is described . the crude vegetable oil is first degummed by either allowing the crude oil to settle over a period of time , such as twenty days , so that the oil becomes stratified into at least two layers , wherein one layer comprises gums with low oil content and a second layer comprises oil containing only a fraction of the gums originally present and then separating the oil layer from the gum layer , or heating the crude oil to a temperature of about 270 - 300 ° f . with agitation and then allowing the crude oil to settle for a period of time until the oil becomes stratified into the at least two layers . the degummed oil is then aerated and agitated while being maintained at a temperature of 170 - 180 ° f . for a time period sufficient to obtain a desired oil viscosity . the resulting partially refined oil is suitable for use in industrial applications such as the preparation of urethane foams .\n",
      "Response: 2\n",
      "--------------------------------------------------\n",
      "\n"
     ]
    },
    {
     "name": "stderr",
     "output_type": "stream",
     "text": [
      "\n"
     ]
    }
   ],
   "source": [
    "# Get the training set\n",
    "train_set = patent_dataset['train']\n",
    "\n",
    "# Randomly select 5 samples from the training set\n",
    "random_subset = train_set.select(random.sample(range(len(train_set)), 5))\n",
    "\n",
    "sampling_params = SamplingParams(temperature=0, max_tokens=1)\n",
    "\n",
    "generating_prompts = [prefix + \"Text: \" + example['text'] + \"\\nResponse: \" for example in random_subset]\n",
    "\n",
    "outputs = llm.generate(generating_prompts, sampling_params)\n",
    "print(f\"Prefix: {prefix}\")\n",
    "# Print the outputs\n",
    "for i, output in enumerate(outputs, start=1):\n",
    "    prompt = output.prompt\n",
    "    generated_text = output.outputs[0].text\n",
    "\n",
    "    print(f\"Example {i}:\")\n",
    "    print(f\"Text: {prompt.split('Text: ')[-1].strip()} {generated_text.strip()}\")\n",
    "    # print(f\"Actual label: {random_subset[i-1]['label']}\")\n",
    "    print(\"-\" * 50 + \"\\n\")"
   ]
  },
  {
   "cell_type": "markdown",
   "id": "36cf3e85-46ff-43cd-b6f1-8b0b231ba4a1",
   "metadata": {},
   "source": [
    "### Prefix 2 - Very Simplistic prefix"
   ]
  },
  {
   "cell_type": "code",
   "execution_count": 32,
   "id": "11fea08b-3d28-4ef4-a117-33a7de1a583a",
   "metadata": {},
   "outputs": [],
   "source": [
    "prefix = \"\"\"\n",
    "You are a classification model. Based on the given an abstract, you need to predict the most relevant category label from below\n",
    "Human Necessities,\n",
    "Operations; Transporting,\n",
    "Chemistry; Metallurgy,\n",
    "Textiles; Paper,\n",
    "Fixed Constructions,\n",
    "Mechanical Engineering; Lightning; Heating; Weapons; Blasting,\n",
    "Physics,\n",
    "Electricity,\n",
    "General tagging of new or cross-sectional technology. \n",
    "One article has only one label.\n",
    "\"\"\""
   ]
  },
  {
   "cell_type": "code",
   "execution_count": 36,
   "id": "4b373439-64ef-4f69-a2b9-dd2e5737a098",
   "metadata": {},
   "outputs": [
    {
     "name": "stderr",
     "output_type": "stream",
     "text": [
      "Processed prompts: 100%|██████████| 10/10 [00:01<00:00,  5.95it/s]"
     ]
    },
    {
     "name": "stdout",
     "output_type": "stream",
     "text": [
      "Example 1:\n",
      "Text: You are a classification model. Based on the given an abstract, you need to predict the most relevant category label from below\n",
      "Human Necessities,\n",
      "Operations; Transporting,\n",
      "Chemistry; Metallurgy,\n",
      "Textiles; Paper,\n",
      "Fixed Constructions,\n",
      "Mechanical Engineering; Lightning; Heating; Weapons; Blasting,\n",
      "Physics,\n",
      "Electricity,\n",
      "General tagging of new or cross-sectional technology. \n",
      "One article has only one label.\n",
      "\n",
      " ### Input abstract: a capacitor is disposed within a semiconductor device assembly atop a plastic layer pad , beneath which passes a pair of leads connected to a semiconductor device . the capacitor is connected to the pair of leads , such as by soldering , spot welding or conductive epoxy through cutouts in the pad . in one embodiment , the cutouts extend into the pad from inner and outer edges thereof . in another embodiment , the cutouts are holes through the pad . a plurality , such as four , capacitors are conveniently disposed atop a corresponding plurality of pads , and are connected to a corresponding plurality of pairs of leads within the semiconductor device assembly . by positioning the capacitor as closely to the semiconductor device as possible , the efficacy of the capacitor is maximized . method and apparatus are disclosed .\n",
      " ### Output: Electricity\n",
      "--------------------------------------------------\n",
      "\n",
      "Example 2:\n",
      "Text: You are a classification model. Based on the given an abstract, you need to predict the most relevant category label from below\n",
      "Human Necessities,\n",
      "Operations; Transporting,\n",
      "Chemistry; Metallurgy,\n",
      "Textiles; Paper,\n",
      "Fixed Constructions,\n",
      "Mechanical Engineering; Lightning; Heating; Weapons; Blasting,\n",
      "Physics,\n",
      "Electricity,\n",
      "General tagging of new or cross-sectional technology. \n",
      "One article has only one label.\n",
      "\n",
      " ### Input abstract: isopropanol cannot be completely removed from isopropanol - isopropyl acetate - water mixtures by distillation because of the presence of the minimum ternary azeotrope . isopropanol can be readily removed from mixtures containing it , isopropyl acetate and water by using extractive distillation in which the extractive agent is a higher boiling ester of phthalic acid . typical examples of effective agents are diethyl phthalate , diisooctyl phthalate and methyl benzoate , dibutyl phthalate , methyl benzoate and nitromethane .\n",
      " ### Output: Chemistry; Metallurgy\n",
      "--------------------------------------------------\n",
      "\n",
      "Example 3:\n",
      "Text: You are a classification model. Based on the given an abstract, you need to predict the most relevant category label from below\n",
      "Human Necessities,\n",
      "Operations; Transporting,\n",
      "Chemistry; Metallurgy,\n",
      "Textiles; Paper,\n",
      "Fixed Constructions,\n",
      "Mechanical Engineering; Lightning; Heating; Weapons; Blasting,\n",
      "Physics,\n",
      "Electricity,\n",
      "General tagging of new or cross-sectional technology. \n",
      "One article has only one label.\n",
      "\n",
      " ### Input abstract: the invention relates to a method for producing effervescent granules , in which the reaction partners edible , organic acid components and alkaline effervescent components separating carbon dioxide are reacted with each other in a vacuum under the effect of gas in a container that can be evacuated . the container is evacuated to a first vacuum value within a vacuum range of 200 - 900 mbar , whereupon the pressure inside the container is increased to a second vacuum value as a result of the gases produced during the reaction . the steps are cyclically repeated while the reaction continues . a maximum number of cycles , a maximum reaction time , and optionally , a maximum load for the stirring apparatus are defined before the reaction begins , and the reaction is terminated after reaching the first of the maximums . in an alternative embodiment , the invention also relates to a method for improving the shelf life of effervescent granules by a treatment with carbon dioxide during and / or following the production of the effervescent granules , and effervescent particles treated in this manner .\n",
      " ### Output: Chemistry; Metallurgy\n",
      "--------------------------------------------------\n",
      "\n",
      "Example 4:\n",
      "Text: You are a classification model. Based on the given an abstract, you need to predict the most relevant category label from below\n",
      "Human Necessities,\n",
      "Operations; Transporting,\n",
      "Chemistry; Metallurgy,\n",
      "Textiles; Paper,\n",
      "Fixed Constructions,\n",
      "Mechanical Engineering; Lightning; Heating; Weapons; Blasting,\n",
      "Physics,\n",
      "Electricity,\n",
      "General tagging of new or cross-sectional technology. \n",
      "One article has only one label.\n",
      "\n",
      " ### Input abstract: a bonding system for a tank battery containing a flammable or combustible product being stored or conveyed , including a bonding conductor , an electrically conductive base member mounted on the tank , the electrically - conductive base member electrically connected to the bonding conductor and to ground installed within each tank and also including a flexible conductive medium with an upper end and a lower end and a plurality of fine electrically - conductive metal wires each having a proximal end and a terminal end , the proximal ends of which are intertwined with the flexible conductive medium to be in electrical connection with the electrical conductive medium , the upper end of the flexible conductive medium electrically connected with the electrically conductive base member and a plurality of static drains located proximate to the highest points of the tank battery and electrically bonded to said bonding conductor .\n",
      " ### Output: Electricity\n",
      "--------------------------------------------------\n",
      "\n",
      "Example 5:\n",
      "Text: You are a classification model. Based on the given an abstract, you need to predict the most relevant category label from below\n",
      "Human Necessities,\n",
      "Operations; Transporting,\n",
      "Chemistry; Metallurgy,\n",
      "Textiles; Paper,\n",
      "Fixed Constructions,\n",
      "Mechanical Engineering; Lightning; Heating; Weapons; Blasting,\n",
      "Physics,\n",
      "Electricity,\n",
      "General tagging of new or cross-sectional technology. \n",
      "One article has only one label.\n",
      "\n",
      " ### Input abstract: a visualization device for use with a loading tray includes a frame comprising a floor , a first side wall extending generally perpendicular from the floor , and a second side wall extending generally perpendicular from the floor and spaced from the first side wall . the visualization device further includes a mirror abutting the floor of the frame . a magnifying glass may also be supported by top edges of the first and second side walls , or by runners coupled to the top edges of the first and second side walls . the visualization device may be slideably disposed in a reservoir of a loading tray .\n",
      " ### Output: Mechanical Engineering; Lightning; Heating; Weapons; Blasting\n",
      "--------------------------------------------------\n",
      "\n",
      "Example 6:\n",
      "Text: You are a classification model. Based on the given an abstract, you need to predict the most relevant category label from below\n",
      "Human Necessities,\n",
      "Operations; Transporting,\n",
      "Chemistry; Metallurgy,\n",
      "Textiles; Paper,\n",
      "Fixed Constructions,\n",
      "Mechanical Engineering; Lightning; Heating; Weapons; Blasting,\n",
      "Physics,\n",
      "Electricity,\n",
      "General tagging of new or cross-sectional technology. \n",
      "One article has only one label.\n",
      "\n",
      " ### Input abstract: a method for simultaneously operating multiple seismic vibrators using continuous sweeps for each vibrator , and recovering the separated seismic responses for each vibrator with the earth signature removed . each vibrator is given a unique , continuous pilot signal . the earth response to the motion of each vibrator is measured or estimated . the vibrator motion records for each vibrator and the combined seismic data record for all the vibrators are parsed into separate shorter records . the shorter records are then used to form a system of simultaneous linear equations in the fourier transform domain , following the hfvs method of sallas and allen . the equations are then solved for the separated earth responses .\n",
      " ### Output: Physics\n",
      "--------------------------------------------------\n",
      "\n",
      "Example 7:\n",
      "Text: You are a classification model. Based on the given an abstract, you need to predict the most relevant category label from below\n",
      "Human Necessities,\n",
      "Operations; Transporting,\n",
      "Chemistry; Metallurgy,\n",
      "Textiles; Paper,\n",
      "Fixed Constructions,\n",
      "Mechanical Engineering; Lightning; Heating; Weapons; Blasting,\n",
      "Physics,\n",
      "Electricity,\n",
      "General tagging of new or cross-sectional technology. \n",
      "One article has only one label.\n",
      "\n",
      " ### Input abstract: an apparatus includes a hub , a first disk , a second disk , and a spacer . the hub is supported for relative rotation about a stationary component . the first disk is mounted to the hub with a first dynamic resonance mode associated therewith . the second disk is mounted to the hub with a second dynamic resonance mode associated therewith . the spacer is positioned between the first disk and the second disk , wherein the spacer is operable to cause the first dynamic resonance mode to be different from the second dynamic resonance mode .\n",
      " ### Output: Mechanical Engineering; Lightning; Heating; Weapons; Blasting\n",
      "--------------------------------------------------\n",
      "\n",
      "Example 8:\n",
      "Text: You are a classification model. Based on the given an abstract, you need to predict the most relevant category label from below\n",
      "Human Necessities,\n",
      "Operations; Transporting,\n",
      "Chemistry; Metallurgy,\n",
      "Textiles; Paper,\n",
      "Fixed Constructions,\n",
      "Mechanical Engineering; Lightning; Heating; Weapons; Blasting,\n",
      "Physics,\n",
      "Electricity,\n",
      "General tagging of new or cross-sectional technology. \n",
      "One article has only one label.\n",
      "\n",
      " ### Input abstract: the instant invention provides novel processes and intermediates useful in the preparation of certain n -- β - alaninamide compounds , which compounds are glycogen phosphorylase inhibitors useful in the treatment of diseases such as hypercholesterolemia , hyperglycemia , hyperinsulinemia , hyperlipidemia , hypertension , atherosclerosis , diabetes , diabetic cardiomyopathy , infection , tissue ischemia , myocardial ischemia , and in inhibiting tumor growth .\n",
      " ### Output: Chemistry; Metallurgy\n",
      "--------------------------------------------------\n",
      "\n",
      "Example 9:\n",
      "Text: You are a classification model. Based on the given an abstract, you need to predict the most relevant category label from below\n",
      "Human Necessities,\n",
      "Operations; Transporting,\n",
      "Chemistry; Metallurgy,\n",
      "Textiles; Paper,\n",
      "Fixed Constructions,\n",
      "Mechanical Engineering; Lightning; Heating; Weapons; Blasting,\n",
      "Physics,\n",
      "Electricity,\n",
      "General tagging of new or cross-sectional technology. \n",
      "One article has only one label.\n",
      "\n",
      " ### Input abstract: a monorail shifting device for a multi - gear variable - speed transmission with a gearshift rail , a shifting element and a selector element . the gearshift rail is arranged and can be displaced axially , in a transmission housing , and the shifting element is connected to the gearshift rail , fixed in the axial direction . the shifting element transmits axial shifting movement selectively to one of a plurality of shifting fork arms . relative to the transmission housing , the selector element is fixed in the axial direction on the housing . the shifting element and the selector element can pivot together about a central axis . a shift position detent acts between the shifting element and the selector element . furthermore , the monorail shifting device is typically incorporated into a multi - gear variable - speed transmission .\n",
      " ### Output: Mechanical Engineering; Lightning; Heating; Weapons; Blasting\n",
      "--------------------------------------------------\n",
      "\n",
      "Example 10:\n",
      "Text: You are a classification model. Based on the given an abstract, you need to predict the most relevant category label from below\n",
      "Human Necessities,\n",
      "Operations; Transporting,\n",
      "Chemistry; Metallurgy,\n",
      "Textiles; Paper,\n",
      "Fixed Constructions,\n",
      "Mechanical Engineering; Lightning; Heating; Weapons; Blasting,\n",
      "Physics,\n",
      "Electricity,\n",
      "General tagging of new or cross-sectional technology. \n",
      "One article has only one label.\n",
      "\n",
      " ### Input abstract: an scs sends out a trigger message for activating a group of mtc devices through a network . an hss verifies whether or not to transfer the trigger message to the given mtc devices based on subscription information of the group . a group gw broadcasts the trigger message . further , an mme concatenates dl messages addressed to the mtc devices . the group gw distributes , to the mtc devices , the dl messages included in the concatenated message . furthermore , the group gw concatenates ul messages received from the mtc devices . the mme processes the ul messages included in the concatenated message .\n",
      " ### Output: Electricity\n",
      "--------------------------------------------------\n",
      "\n"
     ]
    },
    {
     "name": "stderr",
     "output_type": "stream",
     "text": [
      "\n"
     ]
    }
   ],
   "source": [
    "# Get the training set\n",
    "train_set = patent_dataset['train']\n",
    "\n",
    "# Randomly select 5 samples from the training set\n",
    "random_subset = train_set.select(random.sample(range(len(train_set)), 10))\n",
    "\n",
    "sampling_params = SamplingParams(temperature=0)\n",
    "\n",
    "generating_prompts = [prefix + \"\\n ### Input abstract: \" + example['text'] + \"\\n ### Output: \" for example in random_subset]\n",
    "\n",
    "outputs = llm.generate(generating_prompts, sampling_params)\n",
    "# print(f\"Prefix: {prefix}\")\n",
    "# Print the outputs\n",
    "for i, output in enumerate(outputs, start=1):\n",
    "    prompt = output.prompt\n",
    "    generated_text = output.outputs[0].text\n",
    "\n",
    "    print(f\"Example {i}:\")\n",
    "    print(f\"Text: {prompt.split('Text: ')[-1].strip()} {generated_text.strip()}\")\n",
    "    # print(f\"Actual label: {random_subset[i-1]['label']}\")\n",
    "    print(\"-\" * 50 + \"\\n\")"
   ]
  },
  {
   "cell_type": "code",
   "execution_count": 39,
   "id": "c5548fdd-b862-4284-bc92-52e6567e31e8",
   "metadata": {},
   "outputs": [
    {
     "name": "stderr",
     "output_type": "stream",
     "text": [
      "Processed prompts: 100%|██████████| 25000/25000 [23:26<00:00, 17.77it/s]\n",
      "Processed prompts: 100%|██████████| 5000/5000 [04:41<00:00, 17.75it/s]\n",
      "Processed prompts: 100%|██████████| 5000/5000 [04:42<00:00, 17.69it/s]\n"
     ]
    }
   ],
   "source": [
    "patent_modified = zero_shot_classification(\n",
    "    dataset_name=\"MAdAiLab/patent_classification\",\n",
    "    prefix=prefix\n",
    ")"
   ]
  },
  {
   "cell_type": "code",
   "execution_count": 40,
   "id": "2a842dde-949a-4e61-8cd6-070f78a903a2",
   "metadata": {},
   "outputs": [
    {
     "data": {
      "application/vnd.jupyter.widget-view+json": {
       "model_id": "c960d2e1d5354c7286800d17f58c1199",
       "version_major": 2,
       "version_minor": 0
      },
      "text/plain": [
       "Saving the dataset (0/1 shards):   0%|          | 0/25000 [00:00<?, ? examples/s]"
      ]
     },
     "metadata": {},
     "output_type": "display_data"
    },
    {
     "data": {
      "application/vnd.jupyter.widget-view+json": {
       "model_id": "b5df2af2205744929189f40db3452f49",
       "version_major": 2,
       "version_minor": 0
      },
      "text/plain": [
       "Saving the dataset (0/1 shards):   0%|          | 0/5000 [00:00<?, ? examples/s]"
      ]
     },
     "metadata": {},
     "output_type": "display_data"
    },
    {
     "data": {
      "application/vnd.jupyter.widget-view+json": {
       "model_id": "ff492394b12844d5b69ea710b5a2ffa6",
       "version_major": 2,
       "version_minor": 0
      },
      "text/plain": [
       "Saving the dataset (0/1 shards):   0%|          | 0/5000 [00:00<?, ? examples/s]"
      ]
     },
     "metadata": {},
     "output_type": "display_data"
    }
   ],
   "source": [
    "patent_modified.save_to_disk(\"./output/patent_predicted\")"
   ]
  },
  {
   "cell_type": "markdown",
   "id": "505f669d-abf5-43fc-a3f8-f0365ff2e4a2",
   "metadata": {
    "editable": true,
    "jp-MarkdownHeadingCollapsed": true,
    "slideshow": {
     "slide_type": ""
    },
    "tags": []
   },
   "source": [
    "## Scotus dataset"
   ]
  },
  {
   "cell_type": "code",
   "execution_count": 4,
   "id": "81564832-5b44-4733-a783-8937858f38af",
   "metadata": {},
   "outputs": [
    {
     "data": {
      "text/plain": [
       "DatasetDict({\n",
       "    train: Dataset({\n",
       "        features: ['text', 'label'],\n",
       "        num_rows: 5000\n",
       "    })\n",
       "    test: Dataset({\n",
       "        features: ['text', 'label'],\n",
       "        num_rows: 1400\n",
       "    })\n",
       "    validation: Dataset({\n",
       "        features: ['text', 'label'],\n",
       "        num_rows: 1400\n",
       "    })\n",
       "})"
      ]
     },
     "execution_count": 4,
     "metadata": {},
     "output_type": "execute_result"
    }
   ],
   "source": [
    "scotus_dataset = load_dataset(\"MAdAiLab/lex_glue_scotus\")\n",
    "scotus_dataset"
   ]
  },
  {
   "cell_type": "code",
   "execution_count": 7,
   "id": "84e2094f-851a-4744-82f2-77e0ab4f277d",
   "metadata": {},
   "outputs": [],
   "source": [
    "prefix = \"\"\"\n",
    "You are an expert in legal issue area classification, with a deep understanding of the US Supreme Court's opinions and the subject matter of controversies.\n",
    "Your task is to analyze the given court opinion and classify it into one of the 14 relevant issue areas.\n",
    "When analyzing the opinion, consider the overall content, legal concepts, and subject matter within the text.\n",
    "The 14 issue areas are: (0) Criminal Procedure, (1) Civil Rights, (2) First Amendment, (3) Due Process, (4) Privacy, (5) Attorneys, (6) Unions, (7) Economic Activity, (8) Judicial Power, (9) Federalism, (10) Interstate Relations, (11) Federal Taxation, and (12) Miscellaneous\n",
    "Provide your analysis in a concise and definitive manner, outputting the number corresponding to the relevant issue area based on your assessment of the opinion's content.\n",
    "\"\"\""
   ]
  },
  {
   "cell_type": "code",
   "execution_count": 9,
   "id": "293b2066-9345-4cac-8a43-cd7e45cb2cd0",
   "metadata": {},
   "outputs": [
    {
     "name": "stderr",
     "output_type": "stream",
     "text": [
      "Processed prompts:  20%|██        | 2/10 [00:00<00:01,  6.67it/s]"
     ]
    },
    {
     "name": "stdout",
     "output_type": "stream",
     "text": [
      "WARNING 04-30 15:57:37 scheduler.py:619] Input prompt (11916 tokens) is too long and exceeds limit of 8192\n",
      "WARNING 04-30 15:57:37 scheduler.py:619] Input prompt (14873 tokens) is too long and exceeds limit of 8192\n"
     ]
    },
    {
     "name": "stderr",
     "output_type": "stream",
     "text": [
      "Processed prompts:  30%|███       | 3/10 [00:00<00:01,  6.17it/s]"
     ]
    },
    {
     "name": "stdout",
     "output_type": "stream",
     "text": [
      "WARNING 04-30 15:57:37 scheduler.py:619] Input prompt (9829 tokens) is too long and exceeds limit of 8192\n",
      "WARNING 04-30 15:57:37 scheduler.py:619] Input prompt (8665 tokens) is too long and exceeds limit of 8192\n"
     ]
    },
    {
     "name": "stderr",
     "output_type": "stream",
     "text": [
      "Processed prompts: 100%|██████████| 10/10 [00:06<00:00,  1.46it/s]"
     ]
    },
    {
     "name": "stdout",
     "output_type": "stream",
     "text": [
      "Example 1:\n",
      "Actual label: 7\n",
      "Predicted label: 8\n",
      "--------------------------------------------------\n",
      "\n",
      "Example 2:\n",
      "Actual label: 7\n",
      "Predicted label: 3\n",
      "--------------------------------------------------\n",
      "\n",
      "Example 3:\n",
      "Actual label: 0\n",
      "Predicted label: 3\n",
      "--------------------------------------------------\n",
      "\n",
      "Example 4:\n",
      "Actual label: 1\n",
      "Predicted label: \n",
      "--------------------------------------------------\n",
      "\n",
      "Example 5:\n",
      "Actual label: 7\n",
      "Predicted label: \n",
      "--------------------------------------------------\n",
      "\n",
      "Example 6:\n",
      "Actual label: 7\n",
      "Predicted label: 7\n",
      "--------------------------------------------------\n",
      "\n",
      "Example 7:\n",
      "Actual label: 7\n",
      "Predicted label: \n",
      "--------------------------------------------------\n",
      "\n",
      "Example 8:\n",
      "Actual label: 1\n",
      "Predicted label: \n",
      "--------------------------------------------------\n",
      "\n",
      "Example 9:\n",
      "Actual label: 6\n",
      "Predicted label: 3\n",
      "--------------------------------------------------\n",
      "\n",
      "Example 10:\n",
      "Actual label: 0\n",
      "Predicted label: 3\n",
      "--------------------------------------------------\n",
      "\n"
     ]
    },
    {
     "name": "stderr",
     "output_type": "stream",
     "text": [
      "\n"
     ]
    }
   ],
   "source": [
    "prompts = scotus_dataset['train'][:10]['text']\n",
    "labels = scotus_dataset['train'][:10]['label']\n",
    "\n",
    "sampling_params = SamplingParams(temperature=0, max_tokens=1)\n",
    "\n",
    "generating_prompts = [prefix + \"Text: \" + prompt + \"\\nResponse: \" for prompt in prompts]\n",
    "\n",
    "outputs = llm.generate(generating_prompts, sampling_params,)\n",
    "\n",
    "# Print the outputs\n",
    "for i, output in enumerate(outputs, start=1):\n",
    "    prompt = output.prompt\n",
    "    generated_text = output.outputs[0].text\n",
    "\n",
    "    print(f\"Example {i}:\")\n",
    "    # print(f\"Prefix: {prefix.strip()}\")\n",
    "    # print(f\"Text: {prompt.split('Text: ')[-1].strip()}\")\n",
    "    print(f\"Actual label: {labels[i-1]}\")\n",
    "    print(f\"Predicted label: {generated_text.strip()}\")\n",
    "    print(\"-\" * 50 + \"\\n\")"
   ]
  },
  {
   "cell_type": "code",
   "execution_count": null,
   "id": "45a757a7-7a35-4bfb-ba8d-b0a00013cbf0",
   "metadata": {},
   "outputs": [],
   "source": []
  }
 ],
 "metadata": {
  "kernelspec": {
   "display_name": "Python 3 (ipykernel)",
   "language": "python",
   "name": "python3"
  },
  "language_info": {
   "codemirror_mode": {
    "name": "ipython",
    "version": 3
   },
   "file_extension": ".py",
   "mimetype": "text/x-python",
   "name": "python",
   "nbconvert_exporter": "python",
   "pygments_lexer": "ipython3",
   "version": "3.10.12"
  }
 },
 "nbformat": 4,
 "nbformat_minor": 5
}
