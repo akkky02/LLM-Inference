{
 "cells": [
  {
   "cell_type": "markdown",
   "id": "619b4225-2020-4b5a-8c47-f246fcbd4c26",
   "metadata": {},
   "source": [
    "# LLM Inference  - Text Classification using Few Shot Prompting"
   ]
  },
  {
   "cell_type": "code",
   "execution_count": 105,
   "id": "d7343a7d-109a-4787-899b-c3fb52813e3d",
   "metadata": {},
   "outputs": [
    {
     "name": "stderr",
     "output_type": "stream",
     "text": [
      "huggingface/tokenizers: The current process just got forked, after parallelism has already been used. Disabling parallelism to avoid deadlocks...\n",
      "To disable this warning, you can either:\n",
      "\t- Avoid using `tokenizers` before the fork if possible\n",
      "\t- Explicitly set the environment variable TOKENIZERS_PARALLELISM=(true | false)\n"
     ]
    },
    {
     "name": "stdout",
     "output_type": "stream",
     "text": [
      "Defaulting to user installation because normal site-packages is not writeable\n",
      "Collecting scikit-learn\n",
      "  Downloading scikit_learn-1.4.2-cp310-cp310-manylinux_2_17_x86_64.manylinux2014_x86_64.whl (12.1 MB)\n",
      "\u001b[2K     \u001b[90m━━━━━━━━━━━━━━━━━━━━━━━━━━━━━━━━━━━━━━━━\u001b[0m \u001b[32m12.1/12.1 MB\u001b[0m \u001b[31m34.1 MB/s\u001b[0m eta \u001b[36m0:00:00\u001b[0m00:01\u001b[0m0:01\u001b[0m\n",
      "\u001b[?25hRequirement already satisfied: numpy>=1.19.5 in /usr/local/lib/python3.10/dist-packages (from scikit-learn) (1.26.4)\n",
      "Requirement already satisfied: scipy>=1.6.0 in /usr/local/lib/python3.10/dist-packages (from scikit-learn) (1.13.0)\n",
      "Collecting threadpoolctl>=2.0.0\n",
      "  Downloading threadpoolctl-3.5.0-py3-none-any.whl (18 kB)\n",
      "Requirement already satisfied: joblib>=1.2.0 in /usr/local/lib/python3.10/dist-packages (from scikit-learn) (1.4.0)\n",
      "Installing collected packages: threadpoolctl, scikit-learn\n",
      "Successfully installed scikit-learn-1.4.2 threadpoolctl-3.5.0\n"
     ]
    }
   ],
   "source": [
    "!pip install -U scikit-learn"
   ]
  },
  {
   "cell_type": "markdown",
   "id": "de0d7349-996c-43cd-b184-d709c238994d",
   "metadata": {},
   "source": [
    "## Setup Environment"
   ]
  },
  {
   "cell_type": "code",
   "execution_count": 1,
   "id": "79627067-5654-4289-9867-46686726eaa8",
   "metadata": {
    "editable": true,
    "slideshow": {
     "slide_type": ""
    },
    "tags": []
   },
   "outputs": [],
   "source": [
    "import os\n",
    "from datasets import load_dataset,DatasetDict\n",
    "from dotenv import load_dotenv, find_dotenv\n",
    "\n",
    "load_dotenv(find_dotenv())\n",
    "\n",
    "HF_TOKEN = os.getenv(\"HF_TOKEN\")\n",
    "WANDB_API_KEY = os.getenv(\"WANDB_API_KEY\")\n",
    "\n",
    "from vllm import LLM, SamplingParams\n",
    "import random\n",
    "from langchain_core.prompts.few_shot import FewShotPromptTemplate\n",
    "from langchain_core.prompts.prompt import PromptTemplate\n"
   ]
  },
  {
   "cell_type": "markdown",
   "id": "cc5fde05-8f30-4a26-bc8f-7f738ff80fae",
   "metadata": {},
   "source": [
    "## Instantiate a LLM "
   ]
  },
  {
   "cell_type": "code",
   "execution_count": 2,
   "id": "42832cb6-9608-4611-9e8c-ade5d9f9eb56",
   "metadata": {},
   "outputs": [
    {
     "name": "stderr",
     "output_type": "stream",
     "text": [
      "2024-05-04 18:00:20,721\tINFO worker.py:1749 -- Started a local Ray instance.\n"
     ]
    },
    {
     "name": "stdout",
     "output_type": "stream",
     "text": [
      "INFO 05-04 18:00:27 llm_engine.py:98] Initializing an LLM engine (v0.4.1) with config: model='meta-llama/Meta-Llama-3-70B-Instruct', speculative_config=None, tokenizer='meta-llama/Meta-Llama-3-70B-Instruct', skip_tokenizer_init=False, tokenizer_mode=auto, revision=None, tokenizer_revision=None, trust_remote_code=True, dtype=torch.bfloat16, max_seq_len=8192, download_dir=None, load_format=auto, tensor_parallel_size=4, disable_custom_all_reduce=False, quantization=None, enforce_eager=True, kv_cache_dtype=auto, quantization_param_path=None, device_config=cuda, decoding_config=DecodingConfig(guided_decoding_backend='outlines'), seed=0)\n"
     ]
    },
    {
     "name": "stderr",
     "output_type": "stream",
     "text": [
      "Special tokens have been added in the vocabulary, make sure the associated word embeddings are fine-tuned or trained.\n"
     ]
    },
    {
     "name": "stdout",
     "output_type": "stream",
     "text": [
      "INFO 05-04 18:00:35 utils.py:608] Found nccl from library /home/u.ap164907/.config/vllm/nccl/cu12/libnccl.so.2.18.1\n",
      "\u001b[36m(RayWorkerWrapper pid=1760198)\u001b[0m INFO 05-04 18:00:35 utils.py:608] Found nccl from library /home/u.ap164907/.config/vllm/nccl/cu12/libnccl.so.2.18.1\n",
      "INFO 05-04 18:00:41 selector.py:28] Using FlashAttention backend.\n",
      "\u001b[36m(RayWorkerWrapper pid=1760198)\u001b[0m INFO 05-04 18:00:42 selector.py:28] Using FlashAttention backend.\n",
      "\u001b[36m(RayWorkerWrapper pid=1761456)\u001b[0m INFO 05-04 18:00:35 utils.py:608] Found nccl from library /home/u.ap164907/.config/vllm/nccl/cu12/libnccl.so.2.18.1\u001b[32m [repeated 2x across cluster] (Ray deduplicates logs by default. Set RAY_DEDUP_LOGS=0 to disable log deduplication, or see https://docs.ray.io/en/master/ray-observability/user-guides/configure-logging.html#log-deduplication for more options.)\u001b[0m\n",
      "INFO 05-04 18:00:44 pynccl_utils.py:43] vLLM is using nccl==2.18.1\n",
      "\u001b[36m(RayWorkerWrapper pid=1760198)\u001b[0m INFO 05-04 18:00:44 pynccl_utils.py:43] vLLM is using nccl==2.18.1\n",
      "WARNING 05-04 18:01:10 custom_all_reduce.py:65] Custom allreduce is disabled because it's not supported on more than two PCIe-only GPUs. To silence this warning, specify disable_custom_all_reduce=True explicitly.\n",
      "\u001b[36m(RayWorkerWrapper pid=1760198)\u001b[0m WARNING 05-04 18:01:10 custom_all_reduce.py:65] Custom allreduce is disabled because it's not supported on more than two PCIe-only GPUs. To silence this warning, specify disable_custom_all_reduce=True explicitly.\n",
      "\u001b[36m(RayWorkerWrapper pid=1761456)\u001b[0m INFO 05-04 18:00:42 selector.py:28] Using FlashAttention backend.\u001b[32m [repeated 2x across cluster]\u001b[0m\n",
      "\u001b[36m(RayWorkerWrapper pid=1761456)\u001b[0m INFO 05-04 18:00:44 pynccl_utils.py:43] vLLM is using nccl==2.18.1\u001b[32m [repeated 2x across cluster]\u001b[0m\n",
      "INFO 05-04 18:01:26 weight_utils.py:193] Using model weights format ['*.safetensors']\n",
      "\u001b[36m(RayWorkerWrapper pid=1760198)\u001b[0m INFO 05-04 18:01:26 weight_utils.py:193] Using model weights format ['*.safetensors']\n",
      "\u001b[36m(RayWorkerWrapper pid=1761456)\u001b[0m WARNING 05-04 18:01:10 custom_all_reduce.py:65] Custom allreduce is disabled because it's not supported on more than two PCIe-only GPUs. To silence this warning, specify disable_custom_all_reduce=True explicitly.\u001b[32m [repeated 2x across cluster]\u001b[0m\n",
      "\u001b[36m(RayWorkerWrapper pid=1761456)\u001b[0m INFO 05-04 18:01:51 model_runner.py:173] Loading model weights took 32.8599 GBINFO 05-04 18:01:52 model_runner.py:173] Loading model weights took 32.8599 GB\n",
      "\n",
      "\u001b[36m(RayWorkerWrapper pid=1760349)\u001b[0m INFO 05-04 18:01:26 weight_utils.py:193] Using model weights format ['*.safetensors']\u001b[32m [repeated 2x across cluster]\u001b[0m\n",
      "INFO 05-04 18:02:23 ray_gpu_executor.py:217] # GPU blocks: 3119, # CPU blocks: 3276\n",
      "INFO 05-04 18:02:37 block_manager_v1.py:235] Automatic prefix caching is enabled.\n"
     ]
    }
   ],
   "source": [
    "llm = LLM(\n",
    "        model=\"meta-llama/Meta-Llama-3-70B-Instruct\",\n",
    "        tensor_parallel_size=4,\n",
    "        trust_remote_code=True,\n",
    "        enforce_eager=True,\n",
    "        gpu_memory_utilization=0.99,\n",
    "        enable_prefix_caching=True\n",
    ")"
   ]
  },
  {
   "cell_type": "markdown",
   "id": "c28d56b0-ae04-49a4-b1fe-760f0c1a1e09",
   "metadata": {
    "jp-MarkdownHeadingCollapsed": true
   },
   "source": [
    "## Common function for all dataset"
   ]
  },
  {
   "cell_type": "code",
   "execution_count": 3,
   "id": "89576d92-39f8-4d43-82cd-fcf2026982d4",
   "metadata": {
    "editable": true,
    "slideshow": {
     "slide_type": ""
    },
    "tags": []
   },
   "outputs": [],
   "source": [
    "def zero_shot_classification(dataset_name, prefix , split_name):\n",
    "    # Load the dataset\n",
    "    dataset = load_dataset(dataset_name)\n",
    "\n",
    "    # Iterate over the dataset splits (train, test, validation)\n",
    "    modified_dataset_dict = {}\n",
    "    subset=[split_name]\n",
    "    # for split in [\"train\", \"test\", \"validation\"]:\n",
    "    for split in subset:\n",
    "        # Get the texts and labels from the current split\n",
    "        texts = dataset[split][\"text\"]\n",
    "        labels = dataset[split][\"label\"]\n",
    "\n",
    "        # Generate the prompts for each Text\n",
    "        generating_prompts = [prefix + \"Text: \" + text + \"\\nResponse: \" for text in texts]\n",
    "\n",
    "        # Set the sampling parameters\n",
    "        sampling_params = SamplingParams(temperature=0, max_tokens=1)\n",
    "\n",
    "        # Generate the sentiment labels for each text\n",
    "        outputs = llm.generate(generating_prompts, sampling_params)\n",
    "        predicted_label = []\n",
    "        for output in outputs:\n",
    "            try:\n",
    "                predicted_label.append(int(output.outputs[0].text))\n",
    "            except ValueError:\n",
    "                predicted_label.append(-1)\n",
    "\n",
    "        # Add the predicted labels to the dataset\n",
    "        modified_dataset = dataset[split].add_column(\"predicted_label\", predicted_label)\n",
    "        modified_dataset_dict[split] = modified_dataset\n",
    "\n",
    "    # Create a DatasetDict with the modified datasets\n",
    "    return DatasetDict(modified_dataset_dict)"
   ]
  },
  {
   "cell_type": "markdown",
   "id": "40ee03a7-b372-4f95-9a57-18b0dc93b79f",
   "metadata": {
    "jp-MarkdownHeadingCollapsed": true
   },
   "source": [
    "## Twitter Dataset"
   ]
  },
  {
   "cell_type": "code",
   "execution_count": 3,
   "id": "1588b638-7f41-48fa-ad25-ef65eef32244",
   "metadata": {},
   "outputs": [
    {
     "data": {
      "text/plain": [
       "DatasetDict({\n",
       "    train: Dataset({\n",
       "        features: ['text', 'label'],\n",
       "        num_rows: 8700\n",
       "    })\n",
       "    validation: Dataset({\n",
       "        features: ['text', 'label'],\n",
       "        num_rows: 1088\n",
       "    })\n",
       "    test: Dataset({\n",
       "        features: ['text', 'label'],\n",
       "        num_rows: 1088\n",
       "    })\n",
       "})"
      ]
     },
     "execution_count": 3,
     "metadata": {},
     "output_type": "execute_result"
    }
   ],
   "source": [
    "twitter_dataset = load_dataset(\"MAdAiLab/twitter_disaster\")\n",
    "twitter_dataset"
   ]
  },
  {
   "cell_type": "code",
   "execution_count": 72,
   "id": "7e0d892f-a069-487c-bbda-b63537442eb4",
   "metadata": {
    "editable": true,
    "slideshow": {
     "slide_type": ""
    },
    "tags": []
   },
   "outputs": [
    {
     "data": {
      "text/plain": [
       "{'text': ['@sabcnewsroom sabotage!I rule out structural failure',\n",
       "  'Two giant cranes holding a bridge collapse into nearby homes http://t.co/UmANaaHwMI',\n",
       "  '@yeetrpan I asked if they were hiring and they said not you I was devastated.',\n",
       "  'Watch This Airport Get Swallowed Up By A Sandstorm In Under A Minute http://t.co/7IJlZ6BcSP',\n",
       "  'Survived my first #tubestrike thanks to @Citymapper'],\n",
       " 'label': [0, 1, 0, 1, 0]}"
      ]
     },
     "execution_count": 72,
     "metadata": {},
     "output_type": "execute_result"
    }
   ],
   "source": [
    "twitter_dataset['train'][:5]"
   ]
  },
  {
   "cell_type": "code",
   "execution_count": 51,
   "id": "ca44e8a7-15d9-407a-878c-454bc506b5e5",
   "metadata": {
    "editable": true,
    "slideshow": {
     "slide_type": ""
    },
    "tags": []
   },
   "outputs": [
    {
     "data": {
      "text/plain": [
       "[1131, 1471, 2133, 2450, 633]"
      ]
     },
     "execution_count": 51,
     "metadata": {},
     "output_type": "execute_result"
    }
   ],
   "source": [
    "random.sample()"
   ]
  },
  {
   "cell_type": "markdown",
   "id": "8015b218-01e6-43e6-ad73-6a7b8f5f0471",
   "metadata": {
    "editable": true,
    "slideshow": {
     "slide_type": ""
    },
    "tags": []
   },
   "source": [
    "### Prefix 1 - Elaborative prefix"
   ]
  },
  {
   "cell_type": "code",
   "execution_count": 99,
   "id": "0e2881b5-67f8-4a29-b401-d5cdbb18fcdb",
   "metadata": {
    "editable": true,
    "slideshow": {
     "slide_type": ""
    },
    "tags": []
   },
   "outputs": [],
   "source": [
    "prefix = \"\"\"\n",
    "'text': @sabcnewsroom sabotage!I rule out structural failure',\n",
    "  'Two giant cranes holding a bridge collapse into nearby homes http://t.co/UmANaaHwMI',\n",
    "  '@yeetrpan I asked if they were hiring and they said not you I was devastated.',\n",
    "  'Watch This Airport Get Swallowed Up By A Sandstorm In Under A Minute http://t.co/7IJlZ6BcSP',\n",
    "  'Survived my first #tubestrike thanks to @Citymapper'],\n",
    " 'label': [0, 1, 0, 1, 0]\n",
    "Based on the previous text what is the answer to the this  \n",
    "\"\"\""
   ]
  },
  {
   "cell_type": "code",
   "execution_count": 101,
   "id": "46600aaf-88c4-473e-9147-fc2311644a36",
   "metadata": {
    "editable": true,
    "slideshow": {
     "slide_type": ""
    },
    "tags": []
   },
   "outputs": [
    {
     "name": "stderr",
     "output_type": "stream",
     "text": [
      "Processed prompts: 100%|██████████| 5/5 [00:00<00:00, 22.13it/s]"
     ]
    },
    {
     "name": "stdout",
     "output_type": "stream",
     "text": [
      "Prefix: \n",
      "'text': @sabcnewsroom sabotage!I rule out structural failure',\n",
      "  'Two giant cranes holding a bridge collapse into nearby homes http://t.co/UmANaaHwMI',\n",
      "  '@yeetrpan I asked if they were hiring and they said not you I was devastated.',\n",
      "  'Watch This Airport Get Swallowed Up By A Sandstorm In Under A Minute http://t.co/7IJlZ6BcSP',\n",
      "  'Survived my first #tubestrike thanks to @Citymapper'],\n",
      " 'label': [0, 1, 0, 1, 0]\n",
      "Based on the previous text what is the answer to the this  \n",
      "\n",
      "Example 1:\n",
      "Text: @DwarfOnJetpack I guess I can say you and me might have one thing in common my biological father made me this way to be his weapon\n",
      "label: 0\n",
      "Actual label: 0\n",
      "--------------------------------------------------\n",
      "\n",
      "Example 2:\n",
      "Text: Oil and Gas Exploration Takes Seismic Shift in Gabon to Somalia - Bloomberg http://t.co/bEKrPjnYHs #??????? #Somalia\n",
      "label: 1\n",
      "Actual label: 1\n",
      "--------------------------------------------------\n",
      "\n",
      "Example 3:\n",
      "Text: I think that none of us know the impact we have on the lives of those around us. Even the slightest stirring can create a violent storm.\n",
      "label: 0\n",
      "Actual label: 0\n",
      "--------------------------------------------------\n",
      "\n",
      "Example 4:\n",
      "Text: I liked a @YouTube video from @iamrrsb http://t.co/PdEHd1tCpk Minecraft Skywars - O BLAZE QUE USA HACK E FLECHADAS SINISTRAS!\n",
      "label: 0\n",
      "Actual label: 0\n",
      "--------------------------------------------------\n",
      "\n",
      "Example 5:\n",
      "Text: The 'sanitised narrative' of Hiroshima's atomic bombing. #Hiroshima70 #japan http://t.co/zsyj6sqYCn\n",
      "label: 1\n",
      "Actual label: 0\n",
      "--------------------------------------------------\n",
      "\n"
     ]
    },
    {
     "name": "stderr",
     "output_type": "stream",
     "text": [
      "\n"
     ]
    }
   ],
   "source": [
    "# Get the training set\n",
    "train_set = twitter_dataset['train']\n",
    "\n",
    "# Randomly select 5 samples from the training set\n",
    "random_subset = train_set.select(random.sample(range(len(train_set)), 5))\n",
    "\n",
    "sampling_params = SamplingParams(temperature=0,max_tokens=1)\n",
    "\n",
    "generating_prompts = [prefix + \"\\nText: \" + example['text'] + \"\\nlabel: \" for example in random_subset]\n",
    "\n",
    "outputs = llm.generate(generating_prompts, sampling_params)\n",
    "print(f\"Prefix: {prefix}\")\n",
    "# Print the outputs\n",
    "for i, output in enumerate(outputs, start=1):\n",
    "    prompt = output.prompt\n",
    "    generated_text = output.outputs[0].text\n",
    "\n",
    "    print(f\"Example {i}:\")\n",
    "    print(f\"Text: {prompt.split('Text: ')[-1].strip()} {generated_text.strip()}\")\n",
    "    print(f\"Actual label: {random_subset[i-1]['label']}\")\n",
    "    print(\"-\" * 50 + \"\\n\")"
   ]
  },
  {
   "cell_type": "markdown",
   "id": "797c47ee-6eea-4a34-a1e3-02e544a8bed1",
   "metadata": {
    "editable": true,
    "jp-MarkdownHeadingCollapsed": true,
    "slideshow": {
     "slide_type": ""
    },
    "tags": []
   },
   "source": [
    "### Prefix 2 - Simple prefix"
   ]
  },
  {
   "cell_type": "code",
   "execution_count": 38,
   "id": "c63c0b42-4330-46b7-99bf-6852d9bb82e0",
   "metadata": {
    "editable": true,
    "slideshow": {
     "slide_type": ""
    },
    "tags": []
   },
   "outputs": [],
   "source": [
    "prefix = \"\"\"\n",
    "“You are a classification model. \n",
    "Based on the given tweet, you need to predict the most relevant category label from 'positive' or 'negative'.\n",
    "One tweet has only one label. \n",
    "\"\"\""
   ]
  },
  {
   "cell_type": "code",
   "execution_count": 46,
   "id": "2a21ce99-255d-4d0d-a4fa-5bba2fb41f85",
   "metadata": {
    "editable": true,
    "slideshow": {
     "slide_type": ""
    },
    "tags": []
   },
   "outputs": [
    {
     "name": "stderr",
     "output_type": "stream",
     "text": [
      "Processed prompts: 100%|██████████| 10/10 [00:01<00:00,  8.26it/s]"
     ]
    },
    {
     "name": "stdout",
     "output_type": "stream",
     "text": [
      "Prefix: \n",
      "“You are a classification model. \n",
      "Based on the given tweet, you need to predict the most relevant category label from 'positive' or 'negative'.\n",
      "One tweet has only one label. \n",
      "\n",
      "Example 1:\n",
      "Text: INVESTMENT NEWS Keurig Green Mountain Inc. Third-Quarter Earnings: Shares Sinking After-Hours - Stocks in the NewÛ_ http://t.co/GtdNW1SpVi\n",
      "Response: negative”\n",
      "--------------------------------------------------\n",
      "\n",
      "Example 2:\n",
      "Text: New music from @ApolloBrown featuring M.O.P.? 'Detonate' taken off his album 'Grandeur' coming soon - http://t.co/m1xYkEcRzr\n",
      "Response: positive”\n",
      "--------------------------------------------------\n",
      "\n",
      "Example 3:\n",
      "Text: Hollywood movie about trapped miners released in Chile\n",
      "Response: positive”\n",
      "--------------------------------------------------\n",
      "\n",
      "Example 4:\n",
      "Text: RT : Why Sweden Isn't Venezuela: There have been a few days of rioting in Venezuela with the riots directed at grÛ_ http://t.co/GJfd85vuf2\n",
      "Response: negative”\n",
      "--------------------------------------------------\n",
      "\n",
      "Example 5:\n",
      "Text: RT Saginaw - Police sketches of 2 'persons of interest' in Saginaw arson http://t.co/a2tZJ07nId http://t.co/LvtP5MHjaG\n",
      "Response: negative”\n",
      "--------------------------------------------------\n",
      "\n",
      "Example 6:\n",
      "Text: @SalmanMyDarling I will watch your dub again it will be 100 % again ???? I also have other 3 ..will use one weapon today :p\n",
      "Response: positive”\n",
      "--------------------------------------------------\n",
      "\n",
      "Example 7:\n",
      "Text: Top link: Reddit's new content policy goes into effect many horrible subreddits banned or quarantined http://t.co/Cd2NG2Awql\n",
      "Response: \"\"\"\n",
      "\n",
      "The most relevant category label for this tweet is 'positive'.\n",
      "--------------------------------------------------\n",
      "\n",
      "Example 8:\n",
      "Text: @Snazzychipz OMG... WHAT IS THE SUB WEAPON\n",
      "Response: 1”\n",
      "--------------------------------------------------\n",
      "\n",
      "Example 9:\n",
      "Text: @nagel_ashley @Vicken52 @BasedLaRock @goonc1ty rip the world... its burning\n",
      "Response: negative”\n",
      "--------------------------------------------------\n",
      "\n",
      "Example 10:\n",
      "Text: #DnB #NewRelease EDGE Jimmy - Summer Rainstorm (Lapaka Sounds) http://t.co/4L8h2FKlNO via http://t.co/ZITQKDFXJY\n",
      "Response: positive”\n",
      "--------------------------------------------------\n",
      "\n"
     ]
    },
    {
     "name": "stderr",
     "output_type": "stream",
     "text": [
      "\n"
     ]
    }
   ],
   "source": [
    "# Get the training set\n",
    "train_set = twitter_dataset['train']\n",
    "\n",
    "# Randomly select 5 samples from the training set\n",
    "random_subset = train_set.select(random.sample(range(len(train_set)), 10))\n",
    "\n",
    "sampling_params = SamplingParams(temperature=0)\n",
    "\n",
    "generating_prompts = [prefix + \"Text: \" + example['text'] + \"\\nResponse: \" for example in random_subset]\n",
    "\n",
    "outputs = llm.generate(generating_prompts, sampling_params)\n",
    "print(f\"Prefix: {prefix}\")\n",
    "# Print the outputs\n",
    "for i, output in enumerate(outputs, start=1):\n",
    "    prompt = output.prompt\n",
    "    generated_text = output.outputs[0].text\n",
    "\n",
    "    print(f\"Example {i}:\")\n",
    "    print(f\"Text: {prompt.split('Text: ')[-1].strip()} {generated_text.strip()}\")\n",
    "    # print(f\"Actual label: {random_subset[i-1]['label']}\")\n",
    "    print(\"-\" * 50 + \"\\n\")"
   ]
  },
  {
   "cell_type": "markdown",
   "id": "09b9b078-e3d1-4576-b2e6-8718ba3cb7d5",
   "metadata": {},
   "source": [
    "### Convert dataset and add predicted label"
   ]
  },
  {
   "cell_type": "code",
   "execution_count": 102,
   "id": "cc9cad86-784c-4a22-8dda-464c82966916",
   "metadata": {},
   "outputs": [
    {
     "name": "stderr",
     "output_type": "stream",
     "text": [
      "Processed prompts: 100%|██████████| 8700/8700 [02:59<00:00, 48.50it/s]\n",
      "Processed prompts: 100%|██████████| 1088/1088 [00:22<00:00, 49.14it/s]\n",
      "Processed prompts: 100%|██████████| 1088/1088 [00:22<00:00, 48.95it/s]\n"
     ]
    }
   ],
   "source": [
    "twitter_modified = zero_shot_classification(\n",
    "    dataset_name=\"MAdAiLab/twitter_disaster\",\n",
    "    prefix=prefix\n",
    ")"
   ]
  },
  {
   "cell_type": "code",
   "execution_count": 103,
   "id": "abc59d2b-c9dc-4772-bff8-0133e9cb3f93",
   "metadata": {
    "editable": true,
    "slideshow": {
     "slide_type": ""
    },
    "tags": []
   },
   "outputs": [
    {
     "data": {
      "text/plain": [
       "DatasetDict({\n",
       "    train: Dataset({\n",
       "        features: ['text', 'label', 'predicted_label'],\n",
       "        num_rows: 8700\n",
       "    })\n",
       "    test: Dataset({\n",
       "        features: ['text', 'label', 'predicted_label'],\n",
       "        num_rows: 1088\n",
       "    })\n",
       "    validation: Dataset({\n",
       "        features: ['text', 'label', 'predicted_label'],\n",
       "        num_rows: 1088\n",
       "    })\n",
       "})"
      ]
     },
     "execution_count": 103,
     "metadata": {},
     "output_type": "execute_result"
    }
   ],
   "source": [
    "twitter_modified"
   ]
  },
  {
   "cell_type": "code",
   "execution_count": 106,
   "id": "2f639457-ee2f-4874-88e5-5b5a2c8fc5b2",
   "metadata": {
    "editable": true,
    "slideshow": {
     "slide_type": ""
    },
    "tags": []
   },
   "outputs": [
    {
     "name": "stdout",
     "output_type": "stream",
     "text": [
      "Accuracy: 0.6709558823529411\n"
     ]
    }
   ],
   "source": [
    "from sklearn.metrics import accuracy_score\n",
    "\n",
    "# Load the test set\n",
    "test_set = twitter_modified['test']\n",
    "\n",
    "# Get the true labels\n",
    "y_true = test_set['label']\n",
    "\n",
    "# Get the predicted labels\n",
    "y_pred = test_set['predicted_label']\n",
    "\n",
    "# Calculate the accuracy\n",
    "accuracy = accuracy_score(y_true, y_pred)\n",
    "\n",
    "# Print the accuracy\n",
    "print(\"Accuracy:\", accuracy)"
   ]
  },
  {
   "cell_type": "code",
   "execution_count": 11,
   "id": "b194a584-bd7b-4ee0-ae61-3daf446e96cd",
   "metadata": {},
   "outputs": [
    {
     "data": {
      "application/vnd.jupyter.widget-view+json": {
       "model_id": "74aadb0bfc184537b3a7bdbcfb23a4cf",
       "version_major": 2,
       "version_minor": 0
      },
      "text/plain": [
       "Saving the dataset (0/1 shards):   0%|          | 0/8700 [00:00<?, ? examples/s]"
      ]
     },
     "metadata": {},
     "output_type": "display_data"
    },
    {
     "data": {
      "application/vnd.jupyter.widget-view+json": {
       "model_id": "623ec286b28b4fb28a9e559ab185fd5b",
       "version_major": 2,
       "version_minor": 0
      },
      "text/plain": [
       "Saving the dataset (0/1 shards):   0%|          | 0/1088 [00:00<?, ? examples/s]"
      ]
     },
     "metadata": {},
     "output_type": "display_data"
    },
    {
     "data": {
      "application/vnd.jupyter.widget-view+json": {
       "model_id": "4fd3b31f94a648f79fcc48adf1e1560f",
       "version_major": 2,
       "version_minor": 0
      },
      "text/plain": [
       "Saving the dataset (0/1 shards):   0%|          | 0/1088 [00:00<?, ? examples/s]"
      ]
     },
     "metadata": {},
     "output_type": "display_data"
    }
   ],
   "source": [
    "twitter_modified.save_to_disk(\"./output/twitter_predicted\")"
   ]
  },
  {
   "cell_type": "code",
   "execution_count": null,
   "id": "13d30faa-fc19-453f-a45b-57e95ce4f6c9",
   "metadata": {
    "editable": true,
    "slideshow": {
     "slide_type": ""
    },
    "tags": []
   },
   "outputs": [],
   "source": []
  },
  {
   "cell_type": "markdown",
   "id": "3ba13a12-ac4a-4384-a280-39afcd0f79b6",
   "metadata": {
    "jp-MarkdownHeadingCollapsed": true
   },
   "source": [
    "## Patent Classification Dataset"
   ]
  },
  {
   "cell_type": "code",
   "execution_count": 57,
   "id": "2ce00763-847d-4254-9762-4f637636c29d",
   "metadata": {},
   "outputs": [
    {
     "data": {
      "text/plain": [
       "DatasetDict({\n",
       "    train: Dataset({\n",
       "        features: ['text', 'label'],\n",
       "        num_rows: 25000\n",
       "    })\n",
       "    validation: Dataset({\n",
       "        features: ['text', 'label'],\n",
       "        num_rows: 5000\n",
       "    })\n",
       "    test: Dataset({\n",
       "        features: ['text', 'label'],\n",
       "        num_rows: 5000\n",
       "    })\n",
       "})"
      ]
     },
     "execution_count": 57,
     "metadata": {},
     "output_type": "execute_result"
    }
   ],
   "source": [
    "patent_dataset = load_dataset(\"MAdAiLab/patent_classification\")\n",
    "patent_dataset"
   ]
  },
  {
   "cell_type": "code",
   "execution_count": 109,
   "id": "6a91c704-f65e-4e9b-af93-fb3a3544bdca",
   "metadata": {},
   "outputs": [
    {
     "data": {
      "text/plain": [
       "{'text': ['an apparatus for simultaneously testing multiple integrated circuits includes a sensing circuit associated with each of the tested circuits . each sensing circuit includes a differential amplifier with its positive input connected to the input of the test circuit , and its inversion input connected to the test circuit output . the test circuit input and positive amplifier input are biased to a selected voltage , and the voltage drop across the test circuit is provided to the amplifier inversion input . whenever the test circuit is open , intermittently open or highly resistive , the voltage drop across the test circuit exceeds the threshold voltage of the differential amplifier , causing the amplifier to generate a high level logic output representing an open circuit condition . the outputs of the various sensing circuits together form a digital word representative of the condition of all of the test circuits . the outputs of the differential amplifiers also are provided to independent triggering circuitry for enabling the storage of sensing circuit outputs upon an open condition indicated for at least one of the test circuits . the outputs of the sampling circuits are sampled in parallel at 100 nanosecond or longer selected intervals , so that extremely brief intermittent opens are detected .',\n",
       "  'an electrosurgical instrument includes a housing , a shaft extending from the housing , and an end effector assembly attached at a distal end of the shaft . a handle assembly is coupled to the housing and includes a movable handle for manipulating the end effector assembly . an outer sleeve is disposed about the shaft and selectively translatable relative thereto . an energizable member is operably coupled to the outer sleeve . a deployment mechanism is provided including a lever rotatably coupled to the housing and positioned proximally of the movable handle and at least one link member coupled between the lever and the outer sleeve . the link member couple to the outer sleeve distally of the movable handle . rotation of the lever translates the outer sleeve distally to move the outer sleeve over the end effector assembly and simultaneously deploy the energizable member distally past the end effector assembly .',\n",
       "  'a wireless transceiver device employing the code select code division multiple access method includes an encoder configured to execute error correction coding on data having a predetermined number of bits among data inputted from outside , and a code selector configured to select a code corresponding to the data subjected to correction coding . the wireless transceiver device performs wireless communication by use of the data inputted from the outside excluding the data having the predetermined number of bits and by use of the code .',\n",
       "  'the invention provides for the use of protein kinase activators or boosters of nerve growth factor , brain - derived neurotrophic factor or other neurotrophic factors to treat stroke . specifically , the present invention provides methods of treating stroke comprising the steps of identifying a subject having suffered a stroke and administering to said subject an amount of a pharmaceutical composition comprising a protein kinase c activator or 4 - methylcatechol acetic acid and a pharmaceutically acceptable carrier effective to treat at least one symptom of stroke .',\n",
       "  'the present invention relates to a device for mixing fluids . it is a hydraulic or pneumatic apparatus , depending on the fluid used for transportation . it is static and has the characteristics of both an extractor and a fluid mixer . extraction is effected by dragging the suction elements , by means of the circulation of a transporting fluid injected at low pressure . the injection inlets and suction inlets are interchangeable and lead to a single outlet . the injection tube formed by a helical spiral on the outside surrounded by the sheath increases the pressure in the transporting fluid and creates outward helical movement with centrifugal force in all the fluid that circulates on the outside .'],\n",
       " 'label': [6, 0, 7, 0, 8]}"
      ]
     },
     "execution_count": 109,
     "metadata": {},
     "output_type": "execute_result"
    }
   ],
   "source": [
    "patent_dataset['train'][:5]"
   ]
  },
  {
   "cell_type": "markdown",
   "id": "078ddf5b-d465-459b-b656-fe012da99b57",
   "metadata": {
    "jp-MarkdownHeadingCollapsed": true
   },
   "source": [
    "### Prefix 1 : Elaborative Prefix"
   ]
  },
  {
   "cell_type": "code",
   "execution_count": 7,
   "id": "15d49db6-b877-49a0-ae01-4fe572cfa75f",
   "metadata": {},
   "outputs": [],
   "source": [
    "prefix = \"\"\"\n",
    "'text': ['an apparatus for simultaneously testing multiple integrated circuits includes a sensing circuit associated with each of the tested circuits . each sensing circuit includes a differential amplifier with its positive input connected to the input of the test circuit , and its inversion input connected to the test circuit output . the test circuit input and positive amplifier input are biased to a selected voltage , and the voltage drop across the test circuit is provided to the amplifier inversion input . whenever the test circuit is open , intermittently open or highly resistive , the voltage drop across the test circuit exceeds the threshold voltage of the differential amplifier , causing the amplifier to generate a high level logic output representing an open circuit condition . the outputs of the various sensing circuits together form a digital word representative of the condition of all of the test circuits . the outputs of the differential amplifiers also are provided to independent triggering circuitry for enabling the storage of sensing circuit outputs upon an open condition indicated for at least one of the test circuits . the outputs of the sampling circuits are sampled in parallel at 100 nanosecond or longer selected intervals , so that extremely brief intermittent opens are detected .',\n",
    "  'an electrosurgical instrument includes a housing , a shaft extending from the housing , and an end effector assembly attached at a distal end of the shaft . a handle assembly is coupled to the housing and includes a movable handle for manipulating the end effector assembly . an outer sleeve is disposed about the shaft and selectively translatable relative thereto . an energizable member is operably coupled to the outer sleeve . a deployment mechanism is provided including a lever rotatably coupled to the housing and positioned proximally of the movable handle and at least one link member coupled between the lever and the outer sleeve . the link member couple to the outer sleeve distally of the movable handle . rotation of the lever translates the outer sleeve distally to move the outer sleeve over the end effector assembly and simultaneously deploy the energizable member distally past the end effector assembly .',\n",
    "  'a wireless transceiver device employing the code select code division multiple access method includes an encoder configured to execute error correction coding on data having a predetermined number of bits among data inputted from outside , and a code selector configured to select a code corresponding to the data subjected to correction coding . the wireless transceiver device performs wireless communication by use of the data inputted from the outside excluding the data having the predetermined number of bits and by use of the code .',\n",
    "  'the invention provides for the use of protein kinase activators or boosters of nerve growth factor , brain - derived neurotrophic factor or other neurotrophic factors to treat stroke . specifically , the present invention provides methods of treating stroke comprising the steps of identifying a subject having suffered a stroke and administering to said subject an amount of a pharmaceutical composition comprising a protein kinase c activator or 4 - methylcatechol acetic acid and a pharmaceutically acceptable carrier effective to treat at least one symptom of stroke .',\n",
    "  'the present invention relates to a device for mixing fluids . it is a hydraulic or pneumatic apparatus , depending on the fluid used for transportation . it is static and has the characteristics of both an extractor and a fluid mixer . extraction is effected by dragging the suction elements , by means of the circulation of a transporting fluid injected at low pressure . the injection inlets and suction inlets are interchangeable and lead to a single outlet . the injection tube formed by a helical spiral on the outside surrounded by the sheath increases the pressure in the transporting fluid and creates outward helical movement with centrifugal force in all the fluid that circulates on the outside .'],\n",
    " 'label': [6, 0, 7, 0, 8]}\n",
    " \n",
    "Your task is to analyze the given patent abstract text and classify it into one of the 9 categories:\n",
    "'0': Human Necessities\n",
    "'1': Performing Operations; Transporting\n",
    "'2': Chemistry; Metallurgy\n",
    "'3': Textiles; Paper\n",
    "'4': Fixed Constructions\n",
    "'5': Mechanical Engineering; Lightning; Heating; Weapons; Blasting\n",
    "'6': Physics\n",
    "'7': Electricity\n",
    "'8': General tagging of new or cross-sectional technology\n",
    "\n",
    "Based on the previous text what is the answer to the this  \n",
    "\"\"\""
   ]
  },
  {
   "cell_type": "code",
   "execution_count": 8,
   "id": "7b235b42-4429-44d8-bb8f-1d1017b7e691",
   "metadata": {},
   "outputs": [
    {
     "name": "stderr",
     "output_type": "stream",
     "text": [
      "Processed prompts: 100%|██████████| 5/5 [00:02<00:00,  1.90it/s]"
     ]
    },
    {
     "name": "stdout",
     "output_type": "stream",
     "text": [
      "Prefix: \n",
      "'text': ['an apparatus for simultaneously testing multiple integrated circuits includes a sensing circuit associated with each of the tested circuits . each sensing circuit includes a differential amplifier with its positive input connected to the input of the test circuit , and its inversion input connected to the test circuit output . the test circuit input and positive amplifier input are biased to a selected voltage , and the voltage drop across the test circuit is provided to the amplifier inversion input . whenever the test circuit is open , intermittently open or highly resistive , the voltage drop across the test circuit exceeds the threshold voltage of the differential amplifier , causing the amplifier to generate a high level logic output representing an open circuit condition . the outputs of the various sensing circuits together form a digital word representative of the condition of all of the test circuits . the outputs of the differential amplifiers also are provided to independent triggering circuitry for enabling the storage of sensing circuit outputs upon an open condition indicated for at least one of the test circuits . the outputs of the sampling circuits are sampled in parallel at 100 nanosecond or longer selected intervals , so that extremely brief intermittent opens are detected .',\n",
      "  'an electrosurgical instrument includes a housing , a shaft extending from the housing , and an end effector assembly attached at a distal end of the shaft . a handle assembly is coupled to the housing and includes a movable handle for manipulating the end effector assembly . an outer sleeve is disposed about the shaft and selectively translatable relative thereto . an energizable member is operably coupled to the outer sleeve . a deployment mechanism is provided including a lever rotatably coupled to the housing and positioned proximally of the movable handle and at least one link member coupled between the lever and the outer sleeve . the link member couple to the outer sleeve distally of the movable handle . rotation of the lever translates the outer sleeve distally to move the outer sleeve over the end effector assembly and simultaneously deploy the energizable member distally past the end effector assembly .',\n",
      "  'a wireless transceiver device employing the code select code division multiple access method includes an encoder configured to execute error correction coding on data having a predetermined number of bits among data inputted from outside , and a code selector configured to select a code corresponding to the data subjected to correction coding . the wireless transceiver device performs wireless communication by use of the data inputted from the outside excluding the data having the predetermined number of bits and by use of the code .',\n",
      "  'the invention provides for the use of protein kinase activators or boosters of nerve growth factor , brain - derived neurotrophic factor or other neurotrophic factors to treat stroke . specifically , the present invention provides methods of treating stroke comprising the steps of identifying a subject having suffered a stroke and administering to said subject an amount of a pharmaceutical composition comprising a protein kinase c activator or 4 - methylcatechol acetic acid and a pharmaceutically acceptable carrier effective to treat at least one symptom of stroke .',\n",
      "  'the present invention relates to a device for mixing fluids . it is a hydraulic or pneumatic apparatus , depending on the fluid used for transportation . it is static and has the characteristics of both an extractor and a fluid mixer . extraction is effected by dragging the suction elements , by means of the circulation of a transporting fluid injected at low pressure . the injection inlets and suction inlets are interchangeable and lead to a single outlet . the injection tube formed by a helical spiral on the outside surrounded by the sheath increases the pressure in the transporting fluid and creates outward helical movement with centrifugal force in all the fluid that circulates on the outside .'],\n",
      " 'label': [6, 0, 7, 0, 8]}\n",
      " \n",
      "Your task is to analyze the given patent abstract text and classify it into one of the 9 categories:\n",
      "'0': Human Necessities\n",
      "'1': Performing Operations; Transporting\n",
      "'2': Chemistry; Metallurgy\n",
      "'3': Textiles; Paper\n",
      "'4': Fixed Constructions\n",
      "'5': Mechanical Engineering; Lightning; Heating; Weapons; Blasting\n",
      "'6': Physics\n",
      "'7': Electricity\n",
      "'8': General tagging of new or cross-sectional technology\n",
      "\n",
      "Based on the previous text what is the answer to the this  \n",
      "\n",
      "Example 1:\n",
      "Text: an adaptive image coding method and system are disclosed . the system accepts an input image , divides it into image segments , and assigns each segment to a wavelet transform filter from a bank of such filters for transformation . the bank preferably comprises filters adapted for different types of image content , e . g ., sharp edges , slowly - varying contours , etc . filters are preferably assigned so as to produce minimal distortion for their assigned image segments at a given target bit rate , each filter produces transform coefficients for its segment using scale and subband settings common to the entire image . the valid coefficients for each segment are then combined in a composite wavelet coefficient image , which resembles a single wavelet transform of an entire image — although different filters are used to create different portions of the coefficient image . the composite image allows joint , rate - distortion optimized coding for a segmented image . joint coding allocates bits between the transforms of the image segments optimally , and produces an easily scaleable bitstream .\n",
      "label: 7\n",
      "Actual label: 7\n",
      "--------------------------------------------------\n",
      "\n",
      "Example 2:\n",
      "Text: a method for forming a highly textured loop pile rug and / or carpet using the torque created by twisting then cabling bulk continuous yarns . a flooring article having a textured effect by creating torque in the yarn through the twisting and cabling of bulk continuous fiber .\n",
      "label: 5\n",
      "Actual label: 3\n",
      "--------------------------------------------------\n",
      "\n",
      "Example 3:\n",
      "Text: a device in a sheet delivery for accommodating flat printed products , the device having a lowerable auxiliary sheet stack frame arranged between two side walls of the sheet delivery , includes respective lifting devices to which the auxiliary stack frame , at respective corner locations thereof , is articulatedly connected , a movable auxiliary stack receiving element mounted on and completely surrounded by the auxiliary stack frame , the auxiliary stack frame being of a length in a sheet travel direction substantially equal to twice the length of the auxiliary stack receiving element .\n",
      "label: 5\n",
      "Actual label: 1\n",
      "--------------------------------------------------\n",
      "\n",
      "Example 4:\n",
      "Text: a method for communication between first and second computer programs having a shared memory . the first computer program has a first work dispatcher for a first work queue . the second computer program has a second work dispatcher for a second work queue . without causing an interrupt , a message or data is written for the second program from the first program to the shared memory and the second work queue is updated with a work item indicating a message or data for the second program . in association with the updating step , it is determined if the second program is currently busy . if so , the second program is not interrupted regarding the message or data . when the second program subsequently becomes not busy , the second program receives , without an interrupt , and executes the work item to receive the message or data . if the second program was not currently busy , the second program is interrupted to process the message or data on its work queue . this imposes a minimal burden on the second program .\n",
      "label: 7\n",
      "Actual label: 6\n",
      "--------------------------------------------------\n",
      "\n",
      "Example 5:\n",
      "Text: an image forming apparatus includes a device for setting the apparatus in a check mode to check a state of the apparatus and for selectively executing one of a plurality of check operations . in one aspect , each check operation is set using a commonly provided numeral key , and the check mode is unconditionally released using a clear key . in another aspect , one of the check modes includes a test movement of a movable member used in image formation . in still other aspects , sheet transporting operations are controlled based on the location of a sheet jam , or based on the selection of a sheet sorter . the state of each of the image formation devices is checked even if an improper state has already been detected , plural error states are repeatedly displayed in a specific order , and a display unit is commonly used .\n",
      "label: 7\n",
      "Actual label: 6\n",
      "--------------------------------------------------\n",
      "\n"
     ]
    },
    {
     "name": "stderr",
     "output_type": "stream",
     "text": [
      "\n"
     ]
    }
   ],
   "source": [
    "# Get the training set\n",
    "train_set = patent_dataset['train']\n",
    "\n",
    "# Randomly select 5 samples from the training set\n",
    "random_subset = train_set.select(random.sample(range(len(train_set)), 5))\n",
    "\n",
    "sampling_params = SamplingParams(temperature=0, max_tokens=1)\n",
    "\n",
    "generating_prompts = [prefix + \"\\nText: \" + example['text'] + \"\\nlabel: \" for example in random_subset]\n",
    "\n",
    "outputs = llm.generate(generating_prompts, sampling_params)\n",
    "print(f\"Prefix: {prefix}\")\n",
    "# Print the outputs\n",
    "for i, output in enumerate(outputs, start=1):\n",
    "    prompt = output.prompt\n",
    "    generated_text = output.outputs[0].text\n",
    "\n",
    "    print(f\"Example {i}:\")\n",
    "    print(f\"Text: {prompt.split('Text: ')[-1].strip()} {generated_text.strip()}\")\n",
    "    print(f\"Actual label: {random_subset[i-1]['label']}\")\n",
    "    print(\"-\" * 50 + \"\\n\")"
   ]
  },
  {
   "cell_type": "markdown",
   "id": "cbe37629-f6d7-44b8-b429-4adbe8f3875b",
   "metadata": {
    "jp-MarkdownHeadingCollapsed": true
   },
   "source": [
    "### Prefix 2 - Simple prefix"
   ]
  },
  {
   "cell_type": "code",
   "execution_count": 30,
   "id": "71bb15e4-64fa-4a57-9784-05dbc80a7dc6",
   "metadata": {},
   "outputs": [],
   "source": [
    "prefix = \"\"\"\n",
    "Analyze the given patent abstract text and classify it into one of the 9 categories:\n",
    "'0': Human Necessities\n",
    "'1': Performing Operations; Transporting\n",
    "'2': Chemistry; Metallurgy\n",
    "'3': Textiles; Paper\n",
    "'4': Fixed Constructions\n",
    "'5': Mechanical Engineering; Lightning; Heating; Weapons; Blasting\n",
    "'6': Physics\n",
    "'7': Electricity\n",
    "'8': General tagging of new or cross-sectional technology\n",
    "Provide your classification in a concise and definitive manner, outputting the corresponding class label (0-8). \n",
    "Do not provide any additional commentary or explanation beyond the classification itself.\n",
    "\"\"\""
   ]
  },
  {
   "cell_type": "code",
   "execution_count": 31,
   "id": "7deca894-ca1c-46d6-8f43-0b387005abed",
   "metadata": {},
   "outputs": [
    {
     "name": "stderr",
     "output_type": "stream",
     "text": [
      "Processed prompts: 100%|██████████| 5/5 [00:00<00:00,  6.37it/s]"
     ]
    },
    {
     "name": "stdout",
     "output_type": "stream",
     "text": [
      "Prefix: \n",
      "Analyze the given patent abstract text and classify it into one of the 9 categories:\n",
      "'0': Human Necessities\n",
      "'1': Performing Operations; Transporting\n",
      "'2': Chemistry; Metallurgy\n",
      "'3': Textiles; Paper\n",
      "'4': Fixed Constructions\n",
      "'5': Mechanical Engineering; Lightning; Heating; Weapons; Blasting\n",
      "'6': Physics\n",
      "'7': Electricity\n",
      "'8': General tagging of new or cross-sectional technology\n",
      "Provide your classification in a concise and definitive manner, outputting the corresponding class label (0-8). \n",
      "Do not provide any additional commentary or explanation beyond the classification itself.\n",
      "\n",
      "Example 1:\n",
      "Text: a vehicle communication system is operable to calculate and compare vehicle statistics based on information received from a vehicle sensor . this statistic information can be used by the vehicle communication system to execute a plurality of statistic based games . additionally , relevant statistic information may be transmitted to a remote network for the purpose of playing games against other drivers . the vehicle communication system can report statistical changes to a driver , thus appraising the driver of the driver &# 39 ; s success in achieving statistical game goals . network rankings may also be provided to the driver in a real - time basis by the vehicle communication system .\n",
      "Response: 7\n",
      "--------------------------------------------------\n",
      "\n",
      "Example 2:\n",
      "Text: the present invention provides a method and apparatus for increasing the drift diameter and improving the well path of the well bore , accomplished in one embodiment by cutting away material primarily forming surfaces nearer the center of the drift , thereby reducing applied power , applied torque and resulting drag compared to conventional reamers that cut into all surfaces of the well bore .\n",
      "Response: 5\n",
      "--------------------------------------------------\n",
      "\n",
      "Example 3:\n",
      "Text: this invention relates to the filling or dispensing of radiopharmaceuticals in sample vials . radiopharmaceuticals must be dispensed in a cleanroom environment according to cgmp regulations . single - use filling cassette - type dispensing systems can be used for filling or dispensing of radiopharmaceuticals in sample vials . a single - use filling cassette is the core of such a dispenser system . a flexible bag container comprising a flexible bag and a filling cassette was found . the filling cassette is assembled within the flexible bag under aseptic conditions . the assembled filling cassette defined a closed system since each opening is connected to a sample vials or sterile filter avoiding contamination from outside .\n",
      "Response: 7\n",
      "--------------------------------------------------\n",
      "\n",
      "Example 4:\n",
      "Text: an electromagnetic contactor comprising a housing , the housing being adapted to receive internally thereof a stationary armature , a coil subassembly , return springs , and a block subassembly , the block subassembly comprising a block adapted to receive terminals and a carrier subassembly , the carrier subassembly comprising a carrier member adapted to receive and retain a movable armature , the housing having internally thereof a plurality of detents adapted to be overridden by the block subassembly and to snap over exposed surfaces of the block subassembly to lock the block subassembly , the stationary armature , and the coil assembly in the housing , whereby to complete assembly of the contactor without fasteners ; and a method for making the contactor .\n",
      "Response: 7\n",
      "--------------------------------------------------\n",
      "\n",
      "Example 5:\n",
      "Text: a method for partially refining a crude vegetable oil utilizing physical refining techniques is described . the crude vegetable oil is first degummed by either allowing the crude oil to settle over a period of time , such as twenty days , so that the oil becomes stratified into at least two layers , wherein one layer comprises gums with low oil content and a second layer comprises oil containing only a fraction of the gums originally present and then separating the oil layer from the gum layer , or heating the crude oil to a temperature of about 270 - 300 ° f . with agitation and then allowing the crude oil to settle for a period of time until the oil becomes stratified into the at least two layers . the degummed oil is then aerated and agitated while being maintained at a temperature of 170 - 180 ° f . for a time period sufficient to obtain a desired oil viscosity . the resulting partially refined oil is suitable for use in industrial applications such as the preparation of urethane foams .\n",
      "Response: 2\n",
      "--------------------------------------------------\n",
      "\n"
     ]
    },
    {
     "name": "stderr",
     "output_type": "stream",
     "text": [
      "\n"
     ]
    }
   ],
   "source": [
    "# Get the training set\n",
    "train_set = patent_dataset['train']\n",
    "\n",
    "# Randomly select 5 samples from the training set\n",
    "random_subset = train_set.select(random.sample(range(len(train_set)), 5))\n",
    "\n",
    "sampling_params = SamplingParams(temperature=0, max_tokens=1)\n",
    "\n",
    "generating_prompts = [prefix + \"Text: \" + example['text'] + \"\\nResponse: \" for example in random_subset]\n",
    "\n",
    "outputs = llm.generate(generating_prompts, sampling_params)\n",
    "print(f\"Prefix: {prefix}\")\n",
    "# Print the outputs\n",
    "for i, output in enumerate(outputs, start=1):\n",
    "    prompt = output.prompt\n",
    "    generated_text = output.outputs[0].text\n",
    "\n",
    "    print(f\"Example {i}:\")\n",
    "    print(f\"Text: {prompt.split('Text: ')[-1].strip()} {generated_text.strip()}\")\n",
    "    # print(f\"Actual label: {random_subset[i-1]['label']}\")\n",
    "    print(\"-\" * 50 + \"\\n\")"
   ]
  },
  {
   "cell_type": "markdown",
   "id": "36cf3e85-46ff-43cd-b6f1-8b0b231ba4a1",
   "metadata": {
    "jp-MarkdownHeadingCollapsed": true
   },
   "source": [
    "### Prefix 2 - Very Simplistic prefix"
   ]
  },
  {
   "cell_type": "code",
   "execution_count": 32,
   "id": "11fea08b-3d28-4ef4-a117-33a7de1a583a",
   "metadata": {},
   "outputs": [],
   "source": [
    "prefix = \"\"\"\n",
    "You are a classification model. Based on the given an abstract, you need to predict the most relevant category label from below\n",
    "Human Necessities,\n",
    "Operations; Transporting,\n",
    "Chemistry; Metallurgy,\n",
    "Textiles; Paper,\n",
    "Fixed Constructions,\n",
    "Mechanical Engineering; Lightning; Heating; Weapons; Blasting,\n",
    "Physics,\n",
    "Electricity,\n",
    "General tagging of new or cross-sectional technology. \n",
    "One article has only one label.\n",
    "\"\"\""
   ]
  },
  {
   "cell_type": "code",
   "execution_count": 36,
   "id": "4b373439-64ef-4f69-a2b9-dd2e5737a098",
   "metadata": {},
   "outputs": [
    {
     "name": "stderr",
     "output_type": "stream",
     "text": [
      "Processed prompts: 100%|██████████| 10/10 [00:01<00:00,  5.95it/s]"
     ]
    },
    {
     "name": "stdout",
     "output_type": "stream",
     "text": [
      "Example 1:\n",
      "Text: You are a classification model. Based on the given an abstract, you need to predict the most relevant category label from below\n",
      "Human Necessities,\n",
      "Operations; Transporting,\n",
      "Chemistry; Metallurgy,\n",
      "Textiles; Paper,\n",
      "Fixed Constructions,\n",
      "Mechanical Engineering; Lightning; Heating; Weapons; Blasting,\n",
      "Physics,\n",
      "Electricity,\n",
      "General tagging of new or cross-sectional technology. \n",
      "One article has only one label.\n",
      "\n",
      " ### Input abstract: a capacitor is disposed within a semiconductor device assembly atop a plastic layer pad , beneath which passes a pair of leads connected to a semiconductor device . the capacitor is connected to the pair of leads , such as by soldering , spot welding or conductive epoxy through cutouts in the pad . in one embodiment , the cutouts extend into the pad from inner and outer edges thereof . in another embodiment , the cutouts are holes through the pad . a plurality , such as four , capacitors are conveniently disposed atop a corresponding plurality of pads , and are connected to a corresponding plurality of pairs of leads within the semiconductor device assembly . by positioning the capacitor as closely to the semiconductor device as possible , the efficacy of the capacitor is maximized . method and apparatus are disclosed .\n",
      " ### Output: Electricity\n",
      "--------------------------------------------------\n",
      "\n",
      "Example 2:\n",
      "Text: You are a classification model. Based on the given an abstract, you need to predict the most relevant category label from below\n",
      "Human Necessities,\n",
      "Operations; Transporting,\n",
      "Chemistry; Metallurgy,\n",
      "Textiles; Paper,\n",
      "Fixed Constructions,\n",
      "Mechanical Engineering; Lightning; Heating; Weapons; Blasting,\n",
      "Physics,\n",
      "Electricity,\n",
      "General tagging of new or cross-sectional technology. \n",
      "One article has only one label.\n",
      "\n",
      " ### Input abstract: isopropanol cannot be completely removed from isopropanol - isopropyl acetate - water mixtures by distillation because of the presence of the minimum ternary azeotrope . isopropanol can be readily removed from mixtures containing it , isopropyl acetate and water by using extractive distillation in which the extractive agent is a higher boiling ester of phthalic acid . typical examples of effective agents are diethyl phthalate , diisooctyl phthalate and methyl benzoate , dibutyl phthalate , methyl benzoate and nitromethane .\n",
      " ### Output: Chemistry; Metallurgy\n",
      "--------------------------------------------------\n",
      "\n",
      "Example 3:\n",
      "Text: You are a classification model. Based on the given an abstract, you need to predict the most relevant category label from below\n",
      "Human Necessities,\n",
      "Operations; Transporting,\n",
      "Chemistry; Metallurgy,\n",
      "Textiles; Paper,\n",
      "Fixed Constructions,\n",
      "Mechanical Engineering; Lightning; Heating; Weapons; Blasting,\n",
      "Physics,\n",
      "Electricity,\n",
      "General tagging of new or cross-sectional technology. \n",
      "One article has only one label.\n",
      "\n",
      " ### Input abstract: the invention relates to a method for producing effervescent granules , in which the reaction partners edible , organic acid components and alkaline effervescent components separating carbon dioxide are reacted with each other in a vacuum under the effect of gas in a container that can be evacuated . the container is evacuated to a first vacuum value within a vacuum range of 200 - 900 mbar , whereupon the pressure inside the container is increased to a second vacuum value as a result of the gases produced during the reaction . the steps are cyclically repeated while the reaction continues . a maximum number of cycles , a maximum reaction time , and optionally , a maximum load for the stirring apparatus are defined before the reaction begins , and the reaction is terminated after reaching the first of the maximums . in an alternative embodiment , the invention also relates to a method for improving the shelf life of effervescent granules by a treatment with carbon dioxide during and / or following the production of the effervescent granules , and effervescent particles treated in this manner .\n",
      " ### Output: Chemistry; Metallurgy\n",
      "--------------------------------------------------\n",
      "\n",
      "Example 4:\n",
      "Text: You are a classification model. Based on the given an abstract, you need to predict the most relevant category label from below\n",
      "Human Necessities,\n",
      "Operations; Transporting,\n",
      "Chemistry; Metallurgy,\n",
      "Textiles; Paper,\n",
      "Fixed Constructions,\n",
      "Mechanical Engineering; Lightning; Heating; Weapons; Blasting,\n",
      "Physics,\n",
      "Electricity,\n",
      "General tagging of new or cross-sectional technology. \n",
      "One article has only one label.\n",
      "\n",
      " ### Input abstract: a bonding system for a tank battery containing a flammable or combustible product being stored or conveyed , including a bonding conductor , an electrically conductive base member mounted on the tank , the electrically - conductive base member electrically connected to the bonding conductor and to ground installed within each tank and also including a flexible conductive medium with an upper end and a lower end and a plurality of fine electrically - conductive metal wires each having a proximal end and a terminal end , the proximal ends of which are intertwined with the flexible conductive medium to be in electrical connection with the electrical conductive medium , the upper end of the flexible conductive medium electrically connected with the electrically conductive base member and a plurality of static drains located proximate to the highest points of the tank battery and electrically bonded to said bonding conductor .\n",
      " ### Output: Electricity\n",
      "--------------------------------------------------\n",
      "\n",
      "Example 5:\n",
      "Text: You are a classification model. Based on the given an abstract, you need to predict the most relevant category label from below\n",
      "Human Necessities,\n",
      "Operations; Transporting,\n",
      "Chemistry; Metallurgy,\n",
      "Textiles; Paper,\n",
      "Fixed Constructions,\n",
      "Mechanical Engineering; Lightning; Heating; Weapons; Blasting,\n",
      "Physics,\n",
      "Electricity,\n",
      "General tagging of new or cross-sectional technology. \n",
      "One article has only one label.\n",
      "\n",
      " ### Input abstract: a visualization device for use with a loading tray includes a frame comprising a floor , a first side wall extending generally perpendicular from the floor , and a second side wall extending generally perpendicular from the floor and spaced from the first side wall . the visualization device further includes a mirror abutting the floor of the frame . a magnifying glass may also be supported by top edges of the first and second side walls , or by runners coupled to the top edges of the first and second side walls . the visualization device may be slideably disposed in a reservoir of a loading tray .\n",
      " ### Output: Mechanical Engineering; Lightning; Heating; Weapons; Blasting\n",
      "--------------------------------------------------\n",
      "\n",
      "Example 6:\n",
      "Text: You are a classification model. Based on the given an abstract, you need to predict the most relevant category label from below\n",
      "Human Necessities,\n",
      "Operations; Transporting,\n",
      "Chemistry; Metallurgy,\n",
      "Textiles; Paper,\n",
      "Fixed Constructions,\n",
      "Mechanical Engineering; Lightning; Heating; Weapons; Blasting,\n",
      "Physics,\n",
      "Electricity,\n",
      "General tagging of new or cross-sectional technology. \n",
      "One article has only one label.\n",
      "\n",
      " ### Input abstract: a method for simultaneously operating multiple seismic vibrators using continuous sweeps for each vibrator , and recovering the separated seismic responses for each vibrator with the earth signature removed . each vibrator is given a unique , continuous pilot signal . the earth response to the motion of each vibrator is measured or estimated . the vibrator motion records for each vibrator and the combined seismic data record for all the vibrators are parsed into separate shorter records . the shorter records are then used to form a system of simultaneous linear equations in the fourier transform domain , following the hfvs method of sallas and allen . the equations are then solved for the separated earth responses .\n",
      " ### Output: Physics\n",
      "--------------------------------------------------\n",
      "\n",
      "Example 7:\n",
      "Text: You are a classification model. Based on the given an abstract, you need to predict the most relevant category label from below\n",
      "Human Necessities,\n",
      "Operations; Transporting,\n",
      "Chemistry; Metallurgy,\n",
      "Textiles; Paper,\n",
      "Fixed Constructions,\n",
      "Mechanical Engineering; Lightning; Heating; Weapons; Blasting,\n",
      "Physics,\n",
      "Electricity,\n",
      "General tagging of new or cross-sectional technology. \n",
      "One article has only one label.\n",
      "\n",
      " ### Input abstract: an apparatus includes a hub , a first disk , a second disk , and a spacer . the hub is supported for relative rotation about a stationary component . the first disk is mounted to the hub with a first dynamic resonance mode associated therewith . the second disk is mounted to the hub with a second dynamic resonance mode associated therewith . the spacer is positioned between the first disk and the second disk , wherein the spacer is operable to cause the first dynamic resonance mode to be different from the second dynamic resonance mode .\n",
      " ### Output: Mechanical Engineering; Lightning; Heating; Weapons; Blasting\n",
      "--------------------------------------------------\n",
      "\n",
      "Example 8:\n",
      "Text: You are a classification model. Based on the given an abstract, you need to predict the most relevant category label from below\n",
      "Human Necessities,\n",
      "Operations; Transporting,\n",
      "Chemistry; Metallurgy,\n",
      "Textiles; Paper,\n",
      "Fixed Constructions,\n",
      "Mechanical Engineering; Lightning; Heating; Weapons; Blasting,\n",
      "Physics,\n",
      "Electricity,\n",
      "General tagging of new or cross-sectional technology. \n",
      "One article has only one label.\n",
      "\n",
      " ### Input abstract: the instant invention provides novel processes and intermediates useful in the preparation of certain n -- β - alaninamide compounds , which compounds are glycogen phosphorylase inhibitors useful in the treatment of diseases such as hypercholesterolemia , hyperglycemia , hyperinsulinemia , hyperlipidemia , hypertension , atherosclerosis , diabetes , diabetic cardiomyopathy , infection , tissue ischemia , myocardial ischemia , and in inhibiting tumor growth .\n",
      " ### Output: Chemistry; Metallurgy\n",
      "--------------------------------------------------\n",
      "\n",
      "Example 9:\n",
      "Text: You are a classification model. Based on the given an abstract, you need to predict the most relevant category label from below\n",
      "Human Necessities,\n",
      "Operations; Transporting,\n",
      "Chemistry; Metallurgy,\n",
      "Textiles; Paper,\n",
      "Fixed Constructions,\n",
      "Mechanical Engineering; Lightning; Heating; Weapons; Blasting,\n",
      "Physics,\n",
      "Electricity,\n",
      "General tagging of new or cross-sectional technology. \n",
      "One article has only one label.\n",
      "\n",
      " ### Input abstract: a monorail shifting device for a multi - gear variable - speed transmission with a gearshift rail , a shifting element and a selector element . the gearshift rail is arranged and can be displaced axially , in a transmission housing , and the shifting element is connected to the gearshift rail , fixed in the axial direction . the shifting element transmits axial shifting movement selectively to one of a plurality of shifting fork arms . relative to the transmission housing , the selector element is fixed in the axial direction on the housing . the shifting element and the selector element can pivot together about a central axis . a shift position detent acts between the shifting element and the selector element . furthermore , the monorail shifting device is typically incorporated into a multi - gear variable - speed transmission .\n",
      " ### Output: Mechanical Engineering; Lightning; Heating; Weapons; Blasting\n",
      "--------------------------------------------------\n",
      "\n",
      "Example 10:\n",
      "Text: You are a classification model. Based on the given an abstract, you need to predict the most relevant category label from below\n",
      "Human Necessities,\n",
      "Operations; Transporting,\n",
      "Chemistry; Metallurgy,\n",
      "Textiles; Paper,\n",
      "Fixed Constructions,\n",
      "Mechanical Engineering; Lightning; Heating; Weapons; Blasting,\n",
      "Physics,\n",
      "Electricity,\n",
      "General tagging of new or cross-sectional technology. \n",
      "One article has only one label.\n",
      "\n",
      " ### Input abstract: an scs sends out a trigger message for activating a group of mtc devices through a network . an hss verifies whether or not to transfer the trigger message to the given mtc devices based on subscription information of the group . a group gw broadcasts the trigger message . further , an mme concatenates dl messages addressed to the mtc devices . the group gw distributes , to the mtc devices , the dl messages included in the concatenated message . furthermore , the group gw concatenates ul messages received from the mtc devices . the mme processes the ul messages included in the concatenated message .\n",
      " ### Output: Electricity\n",
      "--------------------------------------------------\n",
      "\n"
     ]
    },
    {
     "name": "stderr",
     "output_type": "stream",
     "text": [
      "\n"
     ]
    }
   ],
   "source": [
    "# Get the training set\n",
    "train_set = patent_dataset['train']\n",
    "\n",
    "# Randomly select 5 samples from the training set\n",
    "random_subset = train_set.select(random.sample(range(len(train_set)), 10))\n",
    "\n",
    "sampling_params = SamplingParams(temperature=0)\n",
    "\n",
    "generating_prompts = [prefix + \"\\n ### Input abstract: \" + example['text'] + \"\\n ### Output: \" for example in random_subset]\n",
    "\n",
    "outputs = llm.generate(generating_prompts, sampling_params)\n",
    "# print(f\"Prefix: {prefix}\")\n",
    "# Print the outputs\n",
    "for i, output in enumerate(outputs, start=1):\n",
    "    prompt = output.prompt\n",
    "    generated_text = output.outputs[0].text\n",
    "\n",
    "    print(f\"Example {i}:\")\n",
    "    print(f\"Text: {prompt.split('Text: ')[-1].strip()} {generated_text.strip()}\")\n",
    "    # print(f\"Actual label: {random_subset[i-1]['label']}\")\n",
    "    print(\"-\" * 50 + \"\\n\")"
   ]
  },
  {
   "cell_type": "markdown",
   "id": "cf714060-c3f2-48c6-8921-985eaa56598b",
   "metadata": {},
   "source": [
    "### Convert dataset and add predicted label"
   ]
  },
  {
   "cell_type": "code",
   "execution_count": 9,
   "id": "c5548fdd-b862-4284-bc92-52e6567e31e8",
   "metadata": {
    "editable": true,
    "slideshow": {
     "slide_type": ""
    },
    "tags": []
   },
   "outputs": [
    {
     "name": "stderr",
     "output_type": "stream",
     "text": [
      "Processed prompts: 100%|██████████| 5000/5000 [07:02<00:00, 11.84it/s]\n"
     ]
    }
   ],
   "source": [
    "patent_modified = zero_shot_classification(\n",
    "    dataset_name=\"MAdAiLab/patent_classification\",\n",
    "    prefix=prefix,\n",
    "    split_name=\"test\"\n",
    ")"
   ]
  },
  {
   "cell_type": "code",
   "execution_count": 10,
   "id": "61698f0a-73da-4b92-887b-721bd0d677f7",
   "metadata": {},
   "outputs": [
    {
     "data": {
      "text/plain": [
       "DatasetDict({\n",
       "    test: Dataset({\n",
       "        features: ['text', 'label', 'predicted_label'],\n",
       "        num_rows: 5000\n",
       "    })\n",
       "})"
      ]
     },
     "execution_count": 10,
     "metadata": {},
     "output_type": "execute_result"
    }
   ],
   "source": [
    "patent_modified"
   ]
  },
  {
   "cell_type": "code",
   "execution_count": 11,
   "id": "242af4b3-d12d-4c16-b388-a2f06a034cd8",
   "metadata": {
    "editable": true,
    "slideshow": {
     "slide_type": ""
    },
    "tags": []
   },
   "outputs": [
    {
     "name": "stdout",
     "output_type": "stream",
     "text": [
      "Accuracy: 0.349\n"
     ]
    }
   ],
   "source": [
    "from sklearn.metrics import accuracy_score\n",
    "\n",
    "# Load the test set\n",
    "test_set = patent_modified['test']\n",
    "\n",
    "# Get the true labels\n",
    "y_true = test_set['label']\n",
    "\n",
    "# Get the predicted labels\n",
    "y_pred = test_set['predicted_label']\n",
    "\n",
    "# Calculate the accuracy\n",
    "accuracy = accuracy_score(y_true, y_pred)\n",
    "\n",
    "# Print the accuracy\n",
    "print(\"Accuracy:\", accuracy)"
   ]
  },
  {
   "cell_type": "code",
   "execution_count": 40,
   "id": "2a842dde-949a-4e61-8cd6-070f78a903a2",
   "metadata": {},
   "outputs": [
    {
     "data": {
      "application/vnd.jupyter.widget-view+json": {
       "model_id": "c960d2e1d5354c7286800d17f58c1199",
       "version_major": 2,
       "version_minor": 0
      },
      "text/plain": [
       "Saving the dataset (0/1 shards):   0%|          | 0/25000 [00:00<?, ? examples/s]"
      ]
     },
     "metadata": {},
     "output_type": "display_data"
    },
    {
     "data": {
      "application/vnd.jupyter.widget-view+json": {
       "model_id": "b5df2af2205744929189f40db3452f49",
       "version_major": 2,
       "version_minor": 0
      },
      "text/plain": [
       "Saving the dataset (0/1 shards):   0%|          | 0/5000 [00:00<?, ? examples/s]"
      ]
     },
     "metadata": {},
     "output_type": "display_data"
    },
    {
     "data": {
      "application/vnd.jupyter.widget-view+json": {
       "model_id": "ff492394b12844d5b69ea710b5a2ffa6",
       "version_major": 2,
       "version_minor": 0
      },
      "text/plain": [
       "Saving the dataset (0/1 shards):   0%|          | 0/5000 [00:00<?, ? examples/s]"
      ]
     },
     "metadata": {},
     "output_type": "display_data"
    }
   ],
   "source": [
    "patent_modified.save_to_disk(\"./output/patent_predicted\")"
   ]
  },
  {
   "cell_type": "markdown",
   "id": "505f669d-abf5-43fc-a3f8-f0365ff2e4a2",
   "metadata": {
    "editable": true,
    "jp-MarkdownHeadingCollapsed": true,
    "slideshow": {
     "slide_type": ""
    },
    "tags": []
   },
   "source": [
    "## Scotus dataset"
   ]
  },
  {
   "cell_type": "code",
   "execution_count": 4,
   "id": "81564832-5b44-4733-a783-8937858f38af",
   "metadata": {},
   "outputs": [
    {
     "data": {
      "text/plain": [
       "DatasetDict({\n",
       "    train: Dataset({\n",
       "        features: ['text', 'label'],\n",
       "        num_rows: 5000\n",
       "    })\n",
       "    test: Dataset({\n",
       "        features: ['text', 'label'],\n",
       "        num_rows: 1400\n",
       "    })\n",
       "    validation: Dataset({\n",
       "        features: ['text', 'label'],\n",
       "        num_rows: 1400\n",
       "    })\n",
       "})"
      ]
     },
     "execution_count": 4,
     "metadata": {},
     "output_type": "execute_result"
    }
   ],
   "source": [
    "scotus_dataset = load_dataset(\"MAdAiLab/lex_glue_scotus\")\n",
    "scotus_dataset"
   ]
  },
  {
   "cell_type": "code",
   "execution_count": 7,
   "id": "84e2094f-851a-4744-82f2-77e0ab4f277d",
   "metadata": {},
   "outputs": [],
   "source": [
    "prefix = \"\"\"\n",
    "You are an expert in legal issue area classification, with a deep understanding of the US Supreme Court's opinions and the subject matter of controversies.\n",
    "Your task is to analyze the given court opinion and classify it into one of the 14 relevant issue areas.\n",
    "When analyzing the opinion, consider the overall content, legal concepts, and subject matter within the text.\n",
    "The 14 issue areas are: (0) Criminal Procedure, (1) Civil Rights, (2) First Amendment, (3) Due Process, (4) Privacy, (5) Attorneys, (6) Unions, (7) Economic Activity, (8) Judicial Power, (9) Federalism, (10) Interstate Relations, (11) Federal Taxation, and (12) Miscellaneous\n",
    "Provide your analysis in a concise and definitive manner, outputting the number corresponding to the relevant issue area based on your assessment of the opinion's content.\n",
    "\"\"\""
   ]
  },
  {
   "cell_type": "code",
   "execution_count": 9,
   "id": "293b2066-9345-4cac-8a43-cd7e45cb2cd0",
   "metadata": {},
   "outputs": [
    {
     "name": "stderr",
     "output_type": "stream",
     "text": [
      "Processed prompts:  20%|██        | 2/10 [00:00<00:01,  6.67it/s]"
     ]
    },
    {
     "name": "stdout",
     "output_type": "stream",
     "text": [
      "WARNING 04-30 15:57:37 scheduler.py:619] Input prompt (11916 tokens) is too long and exceeds limit of 8192\n",
      "WARNING 04-30 15:57:37 scheduler.py:619] Input prompt (14873 tokens) is too long and exceeds limit of 8192\n"
     ]
    },
    {
     "name": "stderr",
     "output_type": "stream",
     "text": [
      "Processed prompts:  30%|███       | 3/10 [00:00<00:01,  6.17it/s]"
     ]
    },
    {
     "name": "stdout",
     "output_type": "stream",
     "text": [
      "WARNING 04-30 15:57:37 scheduler.py:619] Input prompt (9829 tokens) is too long and exceeds limit of 8192\n",
      "WARNING 04-30 15:57:37 scheduler.py:619] Input prompt (8665 tokens) is too long and exceeds limit of 8192\n"
     ]
    },
    {
     "name": "stderr",
     "output_type": "stream",
     "text": [
      "Processed prompts: 100%|██████████| 10/10 [00:06<00:00,  1.46it/s]"
     ]
    },
    {
     "name": "stdout",
     "output_type": "stream",
     "text": [
      "Example 1:\n",
      "Actual label: 7\n",
      "Predicted label: 8\n",
      "--------------------------------------------------\n",
      "\n",
      "Example 2:\n",
      "Actual label: 7\n",
      "Predicted label: 3\n",
      "--------------------------------------------------\n",
      "\n",
      "Example 3:\n",
      "Actual label: 0\n",
      "Predicted label: 3\n",
      "--------------------------------------------------\n",
      "\n",
      "Example 4:\n",
      "Actual label: 1\n",
      "Predicted label: \n",
      "--------------------------------------------------\n",
      "\n",
      "Example 5:\n",
      "Actual label: 7\n",
      "Predicted label: \n",
      "--------------------------------------------------\n",
      "\n",
      "Example 6:\n",
      "Actual label: 7\n",
      "Predicted label: 7\n",
      "--------------------------------------------------\n",
      "\n",
      "Example 7:\n",
      "Actual label: 7\n",
      "Predicted label: \n",
      "--------------------------------------------------\n",
      "\n",
      "Example 8:\n",
      "Actual label: 1\n",
      "Predicted label: \n",
      "--------------------------------------------------\n",
      "\n",
      "Example 9:\n",
      "Actual label: 6\n",
      "Predicted label: 3\n",
      "--------------------------------------------------\n",
      "\n",
      "Example 10:\n",
      "Actual label: 0\n",
      "Predicted label: 3\n",
      "--------------------------------------------------\n",
      "\n"
     ]
    },
    {
     "name": "stderr",
     "output_type": "stream",
     "text": [
      "\n"
     ]
    }
   ],
   "source": [
    "prompts = scotus_dataset['train'][:10]['text']\n",
    "labels = scotus_dataset['train'][:10]['label']\n",
    "\n",
    "sampling_params = SamplingParams(temperature=0, max_tokens=1)\n",
    "\n",
    "generating_prompts = [prefix + \"Text: \" + prompt + \"\\nResponse: \" for prompt in prompts]\n",
    "\n",
    "outputs = llm.generate(generating_prompts, sampling_params,)\n",
    "\n",
    "# Print the outputs\n",
    "for i, output in enumerate(outputs, start=1):\n",
    "    prompt = output.prompt\n",
    "    generated_text = output.outputs[0].text\n",
    "\n",
    "    print(f\"Example {i}:\")\n",
    "    # print(f\"Prefix: {prefix.strip()}\")\n",
    "    # print(f\"Text: {prompt.split('Text: ')[-1].strip()}\")\n",
    "    print(f\"Actual label: {labels[i-1]}\")\n",
    "    print(f\"Predicted label: {generated_text.strip()}\")\n",
    "    print(\"-\" * 50 + \"\\n\")"
   ]
  },
  {
   "cell_type": "markdown",
   "id": "45a757a7-7a35-4bfb-ba8d-b0a00013cbf0",
   "metadata": {},
   "source": [
    "## Langhain Few Shot Prompting"
   ]
  },
  {
   "cell_type": "markdown",
   "id": "8481c8d8-ae38-48cd-a964-69652509baef",
   "metadata": {
    "jp-MarkdownHeadingCollapsed": true
   },
   "source": [
    "### Twitter dataset"
   ]
  },
  {
   "cell_type": "code",
   "execution_count": 1,
   "id": "7dc3ec79",
   "metadata": {},
   "outputs": [],
   "source": [
    "from langchain_core.prompts.few_shot import FewShotPromptTemplate\n",
    "from langchain_core.prompts.prompt import PromptTemplate"
   ]
  },
  {
   "cell_type": "code",
   "execution_count": 4,
   "id": "564e27cf",
   "metadata": {},
   "outputs": [
    {
     "data": {
      "text/plain": [
       "[{'text': '@sabcnewsroom sabotage!I rule out structural failure', 'label': 0},\n",
       " {'text': 'Two giant cranes holding a bridge collapse into nearby homes http://t.co/UmANaaHwMI',\n",
       "  'label': 1},\n",
       " {'text': '@yeetrpan I asked if they were hiring and they said not you I was devastated.',\n",
       "  'label': 0},\n",
       " {'text': 'Watch This Airport Get Swallowed Up By A Sandstorm In Under A Minute http://t.co/7IJlZ6BcSP',\n",
       "  'label': 1},\n",
       " {'text': 'Survived my first #tubestrike thanks to @Citymapper', 'label': 0}]"
      ]
     },
     "execution_count": 4,
     "metadata": {},
     "output_type": "execute_result"
    }
   ],
   "source": [
    "examples = twitter_dataset['train'].to_list()[:5]\n",
    "examples"
   ]
  },
  {
   "cell_type": "code",
   "execution_count": 5,
   "id": "22523bb5-d53c-449e-b70b-5202df5b7849",
   "metadata": {},
   "outputs": [
    {
     "name": "stdout",
     "output_type": "stream",
     "text": [
      "Text: @sabcnewsroom sabotage!I rule out structural failure \n",
      "Classification Label: 0\n"
     ]
    }
   ],
   "source": [
    "example_prompt = PromptTemplate(\n",
    "    input_variables=[\"text\", \"label\"], template=\"Text: {text} \\nClassification Label: {label}\"\n",
    ")\n",
    "print(example_prompt.format(**examples[0]))"
   ]
  },
  {
   "cell_type": "code",
   "execution_count": 6,
   "id": "0f8fdc23-185a-4c5c-9c2b-878ef3a13fed",
   "metadata": {},
   "outputs": [
    {
     "name": "stdout",
     "output_type": "stream",
     "text": [
      "Text: @sabcnewsroom sabotage!I rule out structural failure \n",
      "Classification Label: 0\n",
      "\n",
      "Text: Two giant cranes holding a bridge collapse into nearby homes http://t.co/UmANaaHwMI \n",
      "Classification Label: 1\n",
      "\n",
      "Text: @yeetrpan I asked if they were hiring and they said not you I was devastated. \n",
      "Classification Label: 0\n",
      "\n",
      "Text: Watch This Airport Get Swallowed Up By A Sandstorm In Under A Minute http://t.co/7IJlZ6BcSP \n",
      "Classification Label: 1\n",
      "\n",
      "Text: Survived my first #tubestrike thanks to @Citymapper \n",
      "Classification Label: 0\n",
      "\n",
      "Text: screams into void? https://t.co/XRlzvFeiLH \n",
      "Classification Label: \n"
     ]
    }
   ],
   "source": [
    "prompt = FewShotPromptTemplate(\n",
    "    examples=examples,\n",
    "    example_prompt=example_prompt,\n",
    "    suffix=\"Text: {text} \\nClassification Label: \",\n",
    "    input_variables=[\"text\"],\n",
    ")\n",
    "\n",
    "print(prompt.format(text=\"screams into void? https://t.co/XRlzvFeiLH\"))"
   ]
  },
  {
   "cell_type": "code",
   "execution_count": 48,
   "id": "e59fed03-e17c-4616-a510-32e67cba583e",
   "metadata": {},
   "outputs": [
    {
     "name": "stderr",
     "output_type": "stream",
     "text": [
      "Processed prompts: 100%|██████████| 1088/1088 [00:24<00:00, 44.21it/s]\n"
     ]
    }
   ],
   "source": [
    "sampling_params = SamplingParams(temperature=0, max_tokens=1)\n",
    "\n",
    "# Create a list to store the test inputs\n",
    "test_inputs = twitter_dataset['test']\n",
    "\n",
    "# Create a list to store the generated outputs\n",
    "generating_prompts = [prompt.format(text=text) for text in test_inputs['text']]\n",
    "outputs = llm.generate(generating_prompts, sampling_params)\n",
    "predicted_label = []\n",
    "for output in outputs:\n",
    "    try:\n",
    "        predicted_label.append(int(output.outputs[0].text))\n",
    "    except ValueError:\n",
    "        predicted_label.append(-1)"
   ]
  },
  {
   "cell_type": "code",
   "execution_count": 50,
   "id": "f15fa345-e460-4fe3-8433-1f63f6830479",
   "metadata": {},
   "outputs": [
    {
     "data": {
      "text/plain": [
       "[1, 1, 0, 0, 1]"
      ]
     },
     "execution_count": 50,
     "metadata": {},
     "output_type": "execute_result"
    }
   ],
   "source": [
    "predicted_label[:5]"
   ]
  },
  {
   "cell_type": "code",
   "execution_count": 52,
   "id": "ca970f25-cf20-40eb-9d3e-bc28b202bbe3",
   "metadata": {},
   "outputs": [
    {
     "data": {
      "text/plain": [
       "Dataset({\n",
       "    features: ['text', 'label', 'predicted_label'],\n",
       "    num_rows: 1088\n",
       "})"
      ]
     },
     "execution_count": 52,
     "metadata": {},
     "output_type": "execute_result"
    }
   ],
   "source": [
    "modified_dataset = twitter_dataset['test'].add_column(\"predicted_label\", predicted_label)\n",
    "modified_dataset"
   ]
  },
  {
   "cell_type": "code",
   "execution_count": 56,
   "id": "cb8c6b55-32f4-4972-8fee-842178f3f612",
   "metadata": {},
   "outputs": [
    {
     "name": "stdout",
     "output_type": "stream",
     "text": [
      "Accuracy: 0.6994485294117647\n"
     ]
    }
   ],
   "source": [
    "from sklearn.metrics import accuracy_score\n",
    "\n",
    "# Load the test set\n",
    "test_set = modified_dataset\n",
    "\n",
    "# Get the true labels\n",
    "y_true = test_set['label']\n",
    "\n",
    "# Get the predicted labels\n",
    "y_pred = test_set['predicted_label']\n",
    "\n",
    "# Calculate the accuracy\n",
    "accuracy = accuracy_score(y_true, y_pred)\n",
    "\n",
    "# Print the accuracy\n",
    "print(\"Accuracy:\", accuracy)"
   ]
  },
  {
   "cell_type": "markdown",
   "id": "9fa66a01-2af7-46d7-b71f-6a4136bd0a25",
   "metadata": {
    "jp-MarkdownHeadingCollapsed": true
   },
   "source": [
    "### Patent Classification"
   ]
  },
  {
   "cell_type": "code",
   "execution_count": 91,
   "id": "50e5f701-5f6f-4976-b3fa-f9cb17f1ae4b",
   "metadata": {},
   "outputs": [],
   "source": [
    "# Get the unique labels from the training set\n",
    "unique_labels = patent_dataset[\"train\"].unique(\"label\")\n",
    "\n",
    "# Create a list of unique samples\n",
    "unique_samples = []\n",
    "for label in unique_labels:\n",
    "    sample = patent_dataset[\"train\"].filter(lambda x: x[\"label\"] == label)[0]\n",
    "    unique_samples.append(sample)\n",
    "\n",
    "# Now you can use the unique_samples list as your few-shot prompt examples\n",
    "examples = unique_samples\n",
    "# examples"
   ]
  },
  {
   "cell_type": "code",
   "execution_count": 92,
   "id": "a3956271-1ff0-40e4-b019-efb3fb0777ce",
   "metadata": {},
   "outputs": [
    {
     "name": "stdout",
     "output_type": "stream",
     "text": [
      "Text: an apparatus for simultaneously testing multiple integrated circuits includes a sensing circuit associated with each of the tested circuits . each sensing circuit includes a differential amplifier with its positive input connected to the input of the test circuit , and its inversion input connected to the test circuit output . the test circuit input and positive amplifier input are biased to a selected voltage , and the voltage drop across the test circuit is provided to the amplifier inversion input . whenever the test circuit is open , intermittently open or highly resistive , the voltage drop across the test circuit exceeds the threshold voltage of the differential amplifier , causing the amplifier to generate a high level logic output representing an open circuit condition . the outputs of the various sensing circuits together form a digital word representative of the condition of all of the test circuits . the outputs of the differential amplifiers also are provided to independent triggering circuitry for enabling the storage of sensing circuit outputs upon an open condition indicated for at least one of the test circuits . the outputs of the sampling circuits are sampled in parallel at 100 nanosecond or longer selected intervals , so that extremely brief intermittent opens are detected . \n",
      "Classification Label: 6\n"
     ]
    }
   ],
   "source": [
    "example_prompt = PromptTemplate(\n",
    "    input_variables=[\"text\", \"label\"], template=\"Text: {text} \\nClassification Label: {label}\"\n",
    ")\n",
    "print(example_prompt.format(**examples[0]))"
   ]
  },
  {
   "cell_type": "code",
   "execution_count": 93,
   "id": "a3be4bdf-8948-4c4d-98f9-a0b77b1f0379",
   "metadata": {},
   "outputs": [
    {
     "name": "stdout",
     "output_type": "stream",
     "text": [
      "Text: an apparatus for simultaneously testing multiple integrated circuits includes a sensing circuit associated with each of the tested circuits . each sensing circuit includes a differential amplifier with its positive input connected to the input of the test circuit , and its inversion input connected to the test circuit output . the test circuit input and positive amplifier input are biased to a selected voltage , and the voltage drop across the test circuit is provided to the amplifier inversion input . whenever the test circuit is open , intermittently open or highly resistive , the voltage drop across the test circuit exceeds the threshold voltage of the differential amplifier , causing the amplifier to generate a high level logic output representing an open circuit condition . the outputs of the various sensing circuits together form a digital word representative of the condition of all of the test circuits . the outputs of the differential amplifiers also are provided to independent triggering circuitry for enabling the storage of sensing circuit outputs upon an open condition indicated for at least one of the test circuits . the outputs of the sampling circuits are sampled in parallel at 100 nanosecond or longer selected intervals , so that extremely brief intermittent opens are detected . \n",
      "Classification Label: 6\n",
      "\n",
      "Text: an electrosurgical instrument includes a housing , a shaft extending from the housing , and an end effector assembly attached at a distal end of the shaft . a handle assembly is coupled to the housing and includes a movable handle for manipulating the end effector assembly . an outer sleeve is disposed about the shaft and selectively translatable relative thereto . an energizable member is operably coupled to the outer sleeve . a deployment mechanism is provided including a lever rotatably coupled to the housing and positioned proximally of the movable handle and at least one link member coupled between the lever and the outer sleeve . the link member couple to the outer sleeve distally of the movable handle . rotation of the lever translates the outer sleeve distally to move the outer sleeve over the end effector assembly and simultaneously deploy the energizable member distally past the end effector assembly . \n",
      "Classification Label: 0\n",
      "\n",
      "Text: a wireless transceiver device employing the code select code division multiple access method includes an encoder configured to execute error correction coding on data having a predetermined number of bits among data inputted from outside , and a code selector configured to select a code corresponding to the data subjected to correction coding . the wireless transceiver device performs wireless communication by use of the data inputted from the outside excluding the data having the predetermined number of bits and by use of the code . \n",
      "Classification Label: 7\n",
      "\n",
      "Text: the present invention relates to a device for mixing fluids . it is a hydraulic or pneumatic apparatus , depending on the fluid used for transportation . it is static and has the characteristics of both an extractor and a fluid mixer . extraction is effected by dragging the suction elements , by means of the circulation of a transporting fluid injected at low pressure . the injection inlets and suction inlets are interchangeable and lead to a single outlet . the injection tube formed by a helical spiral on the outside surrounded by the sheath increases the pressure in the transporting fluid and creates outward helical movement with centrifugal force in all the fluid that circulates on the outside . \n",
      "Classification Label: 8\n",
      "\n",
      "Text: a method of manufacturing solvent - soluble charge transporting materials capable of imparting charge - tranporting properties to polysiloxane resins . these materials have the formula a - r 1 sir 2 3 - n q n ! p where a is a tertiary amine and organic group derived from a compound having charge transporting properties with an ionization potential of 4 . 5 - 6 . 2 ev ; r 1 is an alkylene group of 1 - 18 carbon atoms ; r 2 is a monovalent hydrocarbon group or a monovalent halogen - substituted hydrocarbon group of 1 - 15 carbon atoms ; q is a hydrolyzable group such as -- or 3 where r 3 is an alkyl group of 1 - 6 carbon atoms ; n and p are each 1 - 3 . this silicon - type charge transporting material is characterized by aromatic groups , and alkoxysilyl groups bonded via hydrocarbon groups onto the aromatic rings . \n",
      "Classification Label: 2\n",
      "\n",
      "Text: a method for erecting a drilling rig and an apparatus therefor having a mast , a base , a floor support , legs arranged between the base and the floor support , a primary lifting ram in engagement with the mast , and a floor support lifting ram , is disclosed . the method involves raising the mast with the primary lifting ram , raising the floor support with the floor support lifting ram to an intermediate height , engaging the primary lifting ram with the floor support and raising the floor support from the intermediate height to full working height with the mast lifting ram . \n",
      "Classification Label: 4\n",
      "\n",
      "Text: a large pore ceramic membrane is used to separate asphaltenes from heavy crude oil . permeate is recycled to the feed for an initial period , during which the pores are deliberately fouled to reduce pore size . this reduction eventually levels off , at which point recycling is terminated and ultrafiltration is continued thereafter at good flux rates with effective asphaltenes removal . \n",
      "Classification Label: 1\n",
      "\n",
      "Text: pre - tension and post - tension processes for the manufacture of pre - stressed structures in which bonded carbon fiber cables are provided with burial anchors and temporary anchors outward of the burial anchors . the burial anchors are embedded in the structure . the temporary anchors enable stressing of the carbon fiber cables . \n",
      "Classification Label: 3\n",
      "\n",
      "Text: a thermostat apparatus for controlling a heat pump with supplemental resistive heating as typically contained in a packaged terminal air conditioning unit is disclosed which provides improvements in energy management by reducing energy usage as much as possible within user guidelines when the conditioned space served by the ptac is not occupied . a reduced setpoint temperature determination is based upon measurements of thermal response within the conditioned space to application of supplemental or resistive heat , and utilizes supplemental or resistive heat in achieving a quick recovery when people enter the conditioned space , thus enabling a more reduced setpoint temperature when the space is not occupied . \n",
      "Classification Label: 5\n",
      "\n",
      "Text: screams into void? https://t.co/XRlzvFeiLH \n",
      "Classification Label: \n"
     ]
    }
   ],
   "source": [
    "prompt = FewShotPromptTemplate(\n",
    "    examples=examples,\n",
    "    example_prompt=example_prompt,\n",
    "    suffix=\"Text: {text} \\nClassification Label: \",\n",
    "    input_variables=[\"text\"],\n",
    ")\n",
    "\n",
    "print(prompt.format(text=\"screams into void? https://t.co/XRlzvFeiLH\"))"
   ]
  },
  {
   "cell_type": "code",
   "execution_count": 94,
   "id": "ec055084-e133-4ba3-8303-e5995175763e",
   "metadata": {},
   "outputs": [
    {
     "name": "stderr",
     "output_type": "stream",
     "text": [
      "Processed prompts: 100%|██████████| 5000/5000 [06:27<00:00, 12.89it/s]\n"
     ]
    }
   ],
   "source": [
    "sampling_params = SamplingParams(temperature=0, max_tokens=1)\n",
    "\n",
    "# Create a list to store the test inputs\n",
    "test_inputs = patent_dataset['test']\n",
    "\n",
    "# Create a list to store the generated outputs\n",
    "generating_prompts = [prompt.format(text=text) for text in test_inputs['text']]\n",
    "outputs = llm.generate(generating_prompts, sampling_params)\n",
    "predicted_label = []\n",
    "for output in outputs:\n",
    "    try:\n",
    "        predicted_label.append(int(output.outputs[0].text))\n",
    "    except ValueError:\n",
    "        predicted_label.append(-1)"
   ]
  },
  {
   "cell_type": "code",
   "execution_count": 50,
   "id": "b6caa9b8-e084-4ee4-b0c8-fd44dd42b589",
   "metadata": {},
   "outputs": [
    {
     "data": {
      "text/plain": [
       "[1, 1, 0, 0, 1]"
      ]
     },
     "execution_count": 50,
     "metadata": {},
     "output_type": "execute_result"
    }
   ],
   "source": [
    "predicted_label[:5]"
   ]
  },
  {
   "cell_type": "code",
   "execution_count": 95,
   "id": "4d62e456-84e4-416d-bf52-2e02ec14b536",
   "metadata": {},
   "outputs": [
    {
     "data": {
      "text/plain": [
       "Dataset({\n",
       "    features: ['text', 'label', 'predicted_label'],\n",
       "    num_rows: 5000\n",
       "})"
      ]
     },
     "execution_count": 95,
     "metadata": {},
     "output_type": "execute_result"
    }
   ],
   "source": [
    "modified_dataset = patent_dataset['test'].add_column(\"predicted_label\", predicted_label)\n",
    "modified_dataset"
   ]
  },
  {
   "cell_type": "code",
   "execution_count": 96,
   "id": "14bcfcde-9873-4ad3-bf44-f45d01cbdd0c",
   "metadata": {},
   "outputs": [
    {
     "name": "stdout",
     "output_type": "stream",
     "text": [
      "Accuracy: 0.3116\n"
     ]
    }
   ],
   "source": [
    "from sklearn.metrics import accuracy_score\n",
    "\n",
    "# Load the test set\n",
    "test_set = modified_dataset\n",
    "\n",
    "# Get the true labels\n",
    "y_true = test_set['label']\n",
    "\n",
    "# Get the predicted labels\n",
    "y_pred = test_set['predicted_label']\n",
    "\n",
    "# Calculate the accuracy\n",
    "accuracy = accuracy_score(y_true, y_pred)\n",
    "\n",
    "# Print the accuracy\n",
    "print(\"Accuracy:\", accuracy)"
   ]
  },
  {
   "cell_type": "markdown",
   "id": "7638c347-b07a-43a0-9a17-1786413e31e6",
   "metadata": {},
   "source": [
    "### Amazon Dataset"
   ]
  },
  {
   "cell_type": "code",
   "execution_count": 3,
   "id": "a961f29c-01da-4485-9389-3741ff1d1276",
   "metadata": {},
   "outputs": [
    {
     "data": {
      "text/plain": [
       "DatasetDict({\n",
       "    train: Dataset({\n",
       "        features: ['label', 'text'],\n",
       "        num_rows: 12144\n",
       "    })\n",
       "    validation: Dataset({\n",
       "        features: ['label', 'text'],\n",
       "        num_rows: 1518\n",
       "    })\n",
       "    test: Dataset({\n",
       "        features: ['label', 'text'],\n",
       "        num_rows: 1518\n",
       "    })\n",
       "})"
      ]
     },
     "execution_count": 3,
     "metadata": {},
     "output_type": "execute_result"
    }
   ],
   "source": [
    "amazon_dataset = load_dataset(\"MAdAiLab/amazon-attrprompt\")\n",
    "amazon_dataset"
   ]
  },
  {
   "cell_type": "code",
   "execution_count": 4,
   "id": "fe5fb43c-3337-4374-bd5b-fd5ecce400bf",
   "metadata": {},
   "outputs": [],
   "source": [
    "# Get the unique labels from the training set\n",
    "unique_labels = amazon_dataset[\"train\"].unique(\"label\")\n",
    "\n",
    "# Create a list of unique samples\n",
    "unique_samples = []\n",
    "for label in unique_labels:\n",
    "    sample = amazon_dataset[\"train\"].filter(lambda x: x[\"label\"] == label)[0]\n",
    "    unique_samples.append(sample)\n",
    "\n",
    "# Now you can use the unique_samples list as your few-shot prompt examples\n",
    "examples = unique_samples\n",
    "# examples"
   ]
  },
  {
   "cell_type": "code",
   "execution_count": 5,
   "id": "50bbc542-5e79-4651-966d-783df4c6e79c",
   "metadata": {},
   "outputs": [
    {
     "name": "stdout",
     "output_type": "stream",
     "text": [
      "Text: This is the second Nike watch I ordered. The first one did not work and Isent it back to Amazon. Amazon was great and sent me new one. This one worked for a few days. I then had the battery replaced . Two weeks after it stopped working. By that time I had thrown out the box etc and now it is sitting in the basket in my kitchen. I have hopes to return it but it seems to much of a problem to explain. I am am glad I have had this opportunity to vent. In short, the watch is awful. \n",
      "Classification Label: 16\n"
     ]
    }
   ],
   "source": [
    "example_prompt = PromptTemplate(\n",
    "    input_variables=[\"text\", \"label\"], template=\"Text: {text} \\nClassification Label: {label}\"\n",
    ")\n",
    "print(example_prompt.format(**examples[0]))"
   ]
  },
  {
   "cell_type": "code",
   "execution_count": 6,
   "id": "acaca55d-65b1-4797-ab98-6b419435b478",
   "metadata": {},
   "outputs": [
    {
     "name": "stdout",
     "output_type": "stream",
     "text": [
      "Text: This is the second Nike watch I ordered. The first one did not work and Isent it back to Amazon. Amazon was great and sent me new one. This one worked for a few days. I then had the battery replaced . Two weeks after it stopped working. By that time I had thrown out the box etc and now it is sitting in the basket in my kitchen. I have hopes to return it but it seems to much of a problem to explain. I am am glad I have had this opportunity to vent. In short, the watch is awful. \n",
      "Classification Label: 16\n",
      "\n",
      "Text: These lounge chairs are hands down the best deal that I have found. They are extremely comfortable, sturdy and attractive! Plus free shipping and they come already assembled..which is a big deal for me since I am not very handy!! Great item and great deal all around \n",
      "Classification Label: 12\n",
      "\n",
      "Text: This review is more about Virgin Mobil customer service than the phone. I ordered a VOX 8610 on 1 22 2007 online thru Virgin Mobile. The phone wouldn't charge. I called customer service and explained the problem. They said did I want a charger or another phone. I replied that I could not tell if it was the charger or the phone that was at fault so please send a new kit. I received a phone but not a charger and it also wouldn't charge. I called customer service and explained the issue and it must be the charger at fault. The rep said they would not send a new charger, that I would have to purchase one. I said this didn't make any sense, according to the offer I could return the phone for a full refund and does that mean that to get a new phone and charge I need to return the phones for a refund and then order another one to get a charger? The support rep said yes and that I had to make up my mind either return the phone or purchase a charger. I asked to speak to a supervisor. The customer support rep kept going off line (to talk to someone?) but refused or couldn't get a supervisor to talk to me. She then asked for the ESN number of the phone. When I said I didn't know what an 'ESN' number she indignantly explained that it was like a serial number on the back of the phone. I'm not clear why she needed this, since I haven't activated the phone and I already referenced the order (vmu) number. At any rate I had been on the phone now for over 40 min with the support rep (obviously not very cost effective for virgin mobile) and at least she was trying to track down some info or so I thought she finally came back on line and said that the computer was down and she couldn't handle my order that I would have to call back. I called back, had to work my way thru the answering system and got thru to RMA and a fellow named Mike. Mike explained that they couldn't send a charger (none in stock) and that I would have to send the entire phone back which is what I am now doing 60 minutes after the initial call. I have to say that my interactions with virgin mobile so far has not been positive. They customer service staff is obviously poorly trained and not empowered to make decisions. The interfaces with support are youth geared not a bad thing except when it is at the expense of treating adults courteously and professionally. I am sending the phone back for a refund and re considering the provider for pay as you go service. 01 26 2007. \n",
      "Classification Label: 4\n",
      "\n",
      "Text: Other than the look, which has now been duplicate by other companies, there is absolutely no reason to buy this incredibly expensive toaster. It does not toast evenly. It does not accomodate bagels unless you flatten the bagel into a pancake with a hole in it. Everything is manual, and has to be reset every time, including how long the toast cooks, and whether you heat the elements for one slice or two. The idea that the toaster keeps your toast warm after it's done toasting is false. The toast is barely warm, and as you'd expect once you think about it, dried out. The Dual Lit is all hype, no better functioning than a 30 toaster from Sears (or Amazon, which is the BEST place to do business in the world. \n",
      "Classification Label: 3\n",
      "\n",
      "Text: It is very hard to update the remote. Very seldom we can delete and if there are two DVR boxes remote get confused and keep on turning off and on, even though we choose the right one such as A or B.Software update is cumbersome and take 45 minutes on a Intel Quad computer with 2 G memory. Can supply some patches. I have the remote sitting on my coffee table useless. \n",
      "Classification Label: 11\n",
      "\n",
      "Text: Ever feel like you want that \"little something\" with your tea or coffee, but you abstain because you're on a diet? That was a problem for me, at least. I've been trying to avoid white sugar and white flour in an effort to lose weight. Well, just when I'd about given up finding a suitably healthy alternative, along came Dr. Kracker spelt muesli crackers! They are all natural, contain no white flour or sugar, DO have some dried fruit for that right amount of sweetness that makes them satisfying as an accompaniment for coffee or tea! Highly recommended \n",
      "Classification Label: 6\n",
      "\n",
      "Text: This sensor is all about peace of mind. We've been using it for a few weeks now and it's gone off twice scaring us, but making us glad that we have it. Both times that its gone off, our daughter has been very tightly swaddled, so we think that made her breathing shallow and thus set off the alarm. You can change the sensitivity on it, but the default setting should be fine. There is a bit of background noise or static that you can hear. My husband solved that issue by placing a piece of regular household tape on the bottom few speaker holes. It is still loud enough for us to hear her without the extra noise. It does take some getting used to you have to turn off the sensor and put it in sound only mode whenever you remove the baby from the crib, otherwise the sensor will go off. But this inconvenience' is totally worth the peace of mind this sensor gives you. I believe they sell this with only one parent unit but you really want to get two. Leave one in the bedroom and keep the other mobile we constantly move the second from the kitchen to the bonus room, to the living room, etc. This sensor is an amazing product and worth every penny. \n",
      "Classification Label: 19\n",
      "\n",
      "Text: We've all heard of Final Fantasy 8 and Final Fantasy 10, but does anyone ever mention the game in between? Final Fantasy 9 is, sadly, the most underestimated game in the Final Fantasy series. It's the one that pulled me into my FF fandom, and though it's around 6 years old I still love it. The reason it's not as famous as the others is probably because FF9 came out on the Playstation JUST before the Playstation 2 came out. The storyline is spellbinding It captures you right at the beginning and flows beautifully, through cities of eternal rain, clashing monsters, and the (Traditional plot theme in almost every RPG alive!) fate of the world itself. Everyone can relate to FF9's characters, who struggle to find who they are or where they belong and in the end, find, or almost find, the meaning in a stunning finale. Then you'll find yourself cheering for them (or mourning over them if you become attached to one who dies.) The music? Nobuo, you've outdone yourself. FF9's songs are masterpieces, and you'll find yourself humming YOU'RE NOT ALONE or MELODIES OF LIFE without knowing it. And of course, a couple pieces will bring back amusing scenes just by mentioning their name. (SLEW OF LOVE LETTERS, anyone?) Any cons? Hard question. If there were a problem, then I can't target it. Perhaps leveling up your character may take a while, but then again that's a traditional part of every FF Game so it shouldn't be counted. And being able to play as a few of the \"legendary\" characters(Fratley, Beatrix) would be great, but that would take away their status, wouldn't it? (And that's an opinion, so I'll let it slide.) I can think about this until my head explodes, but I won't be able to target an ACTUAL flaw. I, Lyrit, find Final Fantasy 9 the perfect RPG game. Overall, and again, this has got to be the greatest FF game out there. I've played most of the others popular in the series now, but they just don't strike me like FF9. Wait. What are you listening to ME for? GET FF9 AND PLAY IT. Once you do, my review will look like it's degrading this game \n",
      "Classification Label: 5\n",
      "\n",
      "Text: I've been down for Monica since the beginning but now I am FINISHED, I love Monica's voice, but whats up with all these singers wanting to be rappers...WTF!!! I want the soulfoul Monica from the first CD, \"Sideline Ho\" ARE YOU SERIOUS!!! again WTF!! Could someone please come out with a soulful mature CD, cause this one aint even close. \n",
      "Classification Label: 9\n",
      "\n",
      "Text: The drywalls in my house apparently have some insulation blown into them, and I could not get the hooks to work. I finally did get one in place and hung a medium large picture on it, and it failed. Far short of the maximum weight on the package. In all fariness the walls were not the right kind of walls and I think whey would work fine for small and medium pics. The laser tool that was included is neat and I used it for all of my pictures, which I had to hang with other hardware \n",
      "Classification Label: 10\n",
      "\n",
      "Text: Overall, I was entirely disappointed with this camaera. The packaging and description were deceiving. There was no view finding screen, only a teeny, tiny window as in a regular camera. This was a gift for a child who would have had just as much fun with a throw away camera. I bought it because I wanted to give her a digital that had a large view finding screen. The construction would not hold up to a single drop on the ground. I would not recommend this to ANYONE \n",
      "Classification Label: 1\n",
      "\n",
      "Text: I was aniticpatng a riveting documentary... After reading some books on Tibet, I thought this documentary would be especially enlightening. I found it to be slow paced, repetitive and thin on factual information (factual history and an intelligent logical supportable case for the Tibetan side of the Chinese invasion occupation) and heavy on \"experiences and testimonials\" of certain Tibetans. The bit about \"the American's abandoned us\" was un necessary and somewhat of a turn off. Not that this man felt abandoned (I have the utmost compassion for his experiences), but rather that the editors of this piece opted to include his comments along side the \"evil communist Chinese\" bits. Overall, this documentary of the Tibetan experience is too heavy on the emotionally charged (I did cry at one point), too repetitive (frankly, it gets boring), and too thin on (non emotionally charged) information. \n",
      "Classification Label: 13\n",
      "\n",
      "Text: If you're a teenage guitarist and want to learn Nickelback, Green Day, and nu metal songs, then this magazine is for you. There's also some pretty good tips for beginners from time to time. But in the last several years the quality of the feature articles and interviews has gone steadily downhill, and there are far too many ads. As many people have said, sometimes it doesn't seem to be geared towards musicians at all anymore. The smarmy, \"hipper than thou\" Rolling Stone, Spin, Pitchfork Media style of writing seems to be taking over the mag. And other styles of music such as blues, country, jazz, etc, are pretty much ignored. But like I said, if you're a teenager and you see it on the newsstand and there's a song in it you would like to learn, pick it up, otherwise avoid this magazine \n",
      "Classification Label: 0\n",
      "\n",
      "Text: I'm a big Nora fan, but I couldn't even finish this one. By the fourth chapter I began to skim. WAY WAY WAY to much detail for me. Which made it boring and slow. Testing and corrosion, is it fake, is it real ...blah blah blah. ENOUGH! I did however enjoy the side story about the brother (I forget his name). But thats it folks. Unlike ALL the other reviewers, I hated it. I say PASS on this one. But as you can see, I'm in the minority \n",
      "Classification Label: 17\n",
      "\n",
      "Text: This is one of the most fun games I've every played. There are tons of belly laughs as people try to bluff their way through an answer to a question. I find the questions (and answers) are quite educational too, I've learned a lot from these questions. A group of family members played at Christmas (6 of us) and it was hilarious to watch some people try to come up with an answer to the question (a bluff). We even let our 5 year old nephew \"play\" and he was pretty good with coming up with some bluffs. Try it, it is loads of fun. I recommend a group of at least 4 though \n",
      "Classification Label: 15\n",
      "\n",
      "Text: Great SW, easy to learn, and good graphics. Really helps visualize the space when you can see it 3D. Could be improved if numerous similar objects could be selected and changed simultaneously (e.g., windows, doors, cabinets to get all with the same materials, colors, hardware rather than one at a time very labor intensive). Should warn users to select create a style and then copy paste them where needed. Also, difficult (maybe impossible, because I haven't figured out how to do it) to change a room's house's overall style once you start a given design \n",
      "Classification Label: 18\n",
      "\n",
      "Text: I was looking forward to receiving this body lotion however was very disappointed when I opened it and smelled the fragrance. It smells exactly like paint. Then after a few minutes it seems to just disappear with a faint paint like scent. I will not buy any more Philosophy products. The less expensive fragrances lotions are so much better that you buy from Target, Wal Mart, etc \n",
      "Classification Label: 21\n",
      "\n",
      "Text: Bought at a local builders warehouse super sale for 13 and the 1st time I used it, I was amazed at the speed with one page so then I tried with five pages it jammed and I had to reverse a few times. I finally got through that first batch but then it would not turn on automatically again. Turns out the small, limit switch that activates the shredder in the paper slot had gotten jammed backwards with the reversing. I was able to get it back in place and made it through two baskets of nicely shredded documents 2 3 pages at a time. A few weeks later, it jammed again and it took awhile but I was finally able to reverse and forward to clear the jam. However, the small, cheaply made limit switch was no longer part of the unit (it apparently got shredded!) and now I have a nice, 13 steel wastebasket, so I cannot complain. Bottom line great for 1 2 pages at a time but forget junk mail with more than one page folded and still in the envelope, unless you open, unfold, and feed 2 3 pages at a time \n",
      "Classification Label: 2\n",
      "\n",
      "Text: I give the order processing an A due to receiving the product within three days. The bag, on the other had, leaves a bit to be desired. While the material used is soft, the inexpensive zippers are difficult to operate with one hand \n",
      "Classification Label: 14\n",
      "\n",
      "Text: I installed this in my Mazda3 5 door wagon the day it arrived (which was very fast I might add). It fit perfectly. The height of the barrier was just low enough to fit in my wagon, so it didn't require a lot of adjusting that way. The bars slide out on the sides to fit the width of the wagon nicely. I've had my three Boston Terriers back there numerous times now. No escaping possible! I had looked through different pet stores for a barrier like this, but they were 3 times the price! This is a great deal \n",
      "Classification Label: 8\n",
      "\n",
      "Text: This thing is miniscule. It barely fits on my (petite) seven year old's neck. Although the size is mentioned in the description, the picture is misleading the pendant itself is smaller than the image on the screen and I consider that borderline false advertising. I should have been a more aware buyer, so this review isn't to say the product is bad, just be aware of how small it is my daughter couldn't even find it in the bag when I gave it to her, it was so small she thought I'd bought her an empty bag \n",
      "Classification Label: 22\n",
      "\n",
      "Text: I ordered this item on the 31st, and recieved it on the 2nd!!! Very good buy on the Gig Bag, and the quick delivery was a pleasent suprise. Thank You \n",
      "Classification Label: 20\n",
      "\n",
      "Text: After a week of researching hand held blowers on the Internets (lol), I came to the conclusion that this is the best hand blower money could buy. I have never used another hand blower in my life so I cannot compare to any another blower, but I must say I am still very impressed. So I decided to wake up the neighborhood and take the this blower out for a test drive. I could not believe the amount of power this baby has. I ran it through my front yard and I had not realized how many leaves were hiding under my grass from last year. I mean this thing was blowing out oak leaves that had already been fossilized into the ground. It blew away rocks, it blew away acorns, and any thing else that got its way. Now I don't even plan to use the vacuum feature because I don't really have that many leaves in my yard, but even if I did have any problems with the vacuum, I don't think that is any reason to complain like some other reviewers. I mean were we really looking for a vacuum when we went out to buy this thing? The vacuum was just an extra feature. All in all, I would highly recommend this blower. It is a definite winner. \n",
      "Classification Label: 7\n",
      "\n",
      "Text: screams into void? https://t.co/XRlzvFeiLH \n",
      "Classification Label: \n"
     ]
    }
   ],
   "source": [
    "prompt = FewShotPromptTemplate(\n",
    "    examples=examples,\n",
    "    example_prompt=example_prompt,\n",
    "    suffix=\"Text: {text} \\nClassification Label: \",\n",
    "    input_variables=[\"text\"],\n",
    ")\n",
    "\n",
    "print(prompt.format(text=\"screams into void? https://t.co/XRlzvFeiLH\"))"
   ]
  },
  {
   "cell_type": "code",
   "execution_count": 7,
   "id": "c2375700-86aa-4def-94c2-67e251389bba",
   "metadata": {},
   "outputs": [
    {
     "name": "stderr",
     "output_type": "stream",
     "text": [
      "Processed prompts: 100%|██████████| 1518/1518 [03:27<00:00,  7.32it/s]\n"
     ]
    }
   ],
   "source": [
    "sampling_params = SamplingParams(temperature=0, max_tokens=1)\n",
    "\n",
    "# Create a list to store the test inputs\n",
    "test_inputs = amazon_dataset['test']\n",
    "\n",
    "# Create a list to store the generated outputs\n",
    "generating_prompts = [prompt.format(text=text) for text in test_inputs['text']]\n",
    "outputs = llm.generate(generating_prompts, sampling_params)\n",
    "predicted_label = []\n",
    "for output in outputs:\n",
    "    try:\n",
    "        predicted_label.append(int(output.outputs[0].text))\n",
    "    except ValueError:\n",
    "        predicted_label.append(-1)"
   ]
  },
  {
   "cell_type": "code",
   "execution_count": 8,
   "id": "aebb326d-1c3f-47b7-a15b-32731bcd9723",
   "metadata": {},
   "outputs": [
    {
     "data": {
      "text/plain": [
       "[23, 23, 23, 23, 23]"
      ]
     },
     "execution_count": 8,
     "metadata": {},
     "output_type": "execute_result"
    }
   ],
   "source": [
    "predicted_label[:5]"
   ]
  },
  {
   "cell_type": "code",
   "execution_count": 9,
   "id": "6389f3f9-b26f-4485-ab14-620bcb571dad",
   "metadata": {},
   "outputs": [
    {
     "data": {
      "text/plain": [
       "Dataset({\n",
       "    features: ['label', 'text', 'predicted_label'],\n",
       "    num_rows: 1518\n",
       "})"
      ]
     },
     "execution_count": 9,
     "metadata": {},
     "output_type": "execute_result"
    }
   ],
   "source": [
    "modified_dataset = amazon_dataset['test'].add_column(\"predicted_label\", predicted_label)\n",
    "modified_dataset"
   ]
  },
  {
   "cell_type": "code",
   "execution_count": 10,
   "id": "9de5ac74-b374-4c17-b287-f807d5079c00",
   "metadata": {},
   "outputs": [
    {
     "name": "stdout",
     "output_type": "stream",
     "text": [
      "Accuracy: 0.01383399209486166\n"
     ]
    }
   ],
   "source": [
    "from sklearn.metrics import accuracy_score\n",
    "\n",
    "# Load the test set\n",
    "test_set = modified_dataset\n",
    "\n",
    "# Get the true labels\n",
    "y_true = test_set['label']\n",
    "\n",
    "# Get the predicted labels\n",
    "y_pred = test_set['predicted_label']\n",
    "\n",
    "# Calculate the accuracy\n",
    "accuracy = accuracy_score(y_true, y_pred)\n",
    "\n",
    "# Print the accuracy\n",
    "print(\"Accuracy:\", accuracy)"
   ]
  },
  {
   "cell_type": "code",
   "execution_count": null,
   "id": "f5f66269-2007-480c-bf13-21f73c9d8a03",
   "metadata": {},
   "outputs": [],
   "source": []
  }
 ],
 "metadata": {
  "kernelspec": {
   "display_name": "Python 3 (ipykernel)",
   "language": "python",
   "name": "python3"
  },
  "language_info": {
   "codemirror_mode": {
    "name": "ipython",
    "version": 3
   },
   "file_extension": ".py",
   "mimetype": "text/x-python",
   "name": "python",
   "nbconvert_exporter": "python",
   "pygments_lexer": "ipython3",
   "version": "3.10.12"
  }
 },
 "nbformat": 4,
 "nbformat_minor": 5
}
